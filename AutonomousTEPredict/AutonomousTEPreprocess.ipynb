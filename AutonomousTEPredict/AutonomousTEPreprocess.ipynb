{
 "cells": [
  {
   "cell_type": "markdown",
   "source": [
    "# Preprocessing for Autonomous Transposable Element Prediction\n",
    "\n",
    "Both Genetic and Epigenetic factors greatly influence the expression of transposable elements. As a result, performing differential expression analysis on transposable elements in cases with highly varient genetic landscapes would provide incredibly noisy (highly false positive) results. This is because TEs found located near expressed genes (exonic or intronic) are likely to be equivalently expressed. As such, if there are differences in the expression of these genes between samples, TEs expression is likely to be differentially expressed in a similar manner. To combat this issue, we can simply eliminate transposable elements that have expression that is highly linearly correlated with local gene expression. In doing so, we eliminate the major confounding variable (local genetic expression) when evaluating resultant functional differences between transposable element expression profiles. the process isolates what we call 'autonomous' transposable element expression.\n",
    "\n",
    "Assumption\n",
    "1. Transposable elements that are linearly correlated with the expression of local genes (defined in 'Setting Locality Metric' below)  are simply 'passenger' transcripts that have limited functionality is comparision to the associated genetic expression\n",
    "2. Collinear expression of local TE(s) and Gene(s) is not coincidental\n",
    "\n",
    "## Input\n",
    "\n",
    "TE: Tranposable element per loci expression matrix (in TPM) with samples as columns and individual TE expression as rows.\n",
    "    ** As shown below **\n",
    "    Column Names: Sample ID\n",
    "    Row Names: TE name and Genomic Location of form 'TEname_RelativeGenomicLocation_Chromosome__Start_Stop'\n",
    "        RelativeGenomicLocation: (intron/intergenic/exonic)\n",
    "\n",
    "Gene: Gene expression matrix (in TPM) with samples as columns and individual gene expression as rows.\n",
    "    Column Names: SampleID\n",
    "    Row Names: ENSEMBL ID"
   ],
   "metadata": {
    "collapsed": false,
    "pycharm": {
     "name": "#%% md\n"
    }
   }
  },
  {
   "cell_type": "markdown",
   "source": [
    "## Import 'Input' Dataframes\n",
    "\n",
    "In this example I am only evaluating a specific subclass of Tranposable Element L1HS (Young Line-1 Element)"
   ],
   "metadata": {
    "collapsed": false,
    "pycharm": {
     "name": "#%% md\n"
    }
   }
  },
  {
   "cell_type": "code",
   "execution_count": 94,
   "outputs": [
    {
     "name": "stdout",
     "output_type": "stream",
     "text": [
      "                 TCGA-DK-A2I6-01A-12R-A18C-07  TCGA-FD-A6TK-01A-42R-A33J-07  \\\n",
      "ENSG00000000003                          4964                          2049   \n",
      "ENSG00000000005                             2                             0   \n",
      "ENSG00000000419                          3610                          3019   \n",
      "ENSG00000000457                           654                           297   \n",
      "ENSG00000000460                           533                           292   \n",
      "\n",
      "                 TCGA-UY-A78L-01A-12R-A33J-07  TCGA-4Z-AA84-01A-11R-A39I-07  \\\n",
      "ENSG00000000003                          4237                           828   \n",
      "ENSG00000000005                            39                             0   \n",
      "ENSG00000000419                          3148                          1565   \n",
      "ENSG00000000457                           403                           467   \n",
      "ENSG00000000460                          1019                          1131   \n",
      "\n",
      "                 TCGA-XF-A9SK-01A-11R-A42T-07  TCGA-YF-AA3M-01A-11R-A42T-07  \\\n",
      "ENSG00000000003                          2831                          4770   \n",
      "ENSG00000000005                             2                             0   \n",
      "ENSG00000000419                          3344                          2028   \n",
      "ENSG00000000457                           615                           331   \n",
      "ENSG00000000460                           219                           434   \n",
      "\n",
      "                 TCGA-G2-A3IE-01A-11R-A20F-07  TCGA-ZF-A9RL-01A-11R-A38B-07  \\\n",
      "ENSG00000000003                         10962                         11472   \n",
      "ENSG00000000005                             0                             2   \n",
      "ENSG00000000419                          1873                          1839   \n",
      "ENSG00000000457                           609                           570   \n",
      "ENSG00000000460                           364                           286   \n",
      "\n",
      "                 TCGA-HQ-A2OE-01A-11R-A206-07  TCGA-DK-AA74-01A-11R-A39I-07  \\\n",
      "ENSG00000000003                          6606                          1168   \n",
      "ENSG00000000005                             0                            28   \n",
      "ENSG00000000419                          4899                          1316   \n",
      "ENSG00000000457                          2516                           106   \n",
      "ENSG00000000460                          1449                            84   \n",
      "\n",
      "                 ...  TCGA-ZF-A9RF-01A-11R-A38B-07  \\\n",
      "ENSG00000000003  ...                          3499   \n",
      "ENSG00000000005  ...                             2   \n",
      "ENSG00000000419  ...                          1612   \n",
      "ENSG00000000457  ...                           690   \n",
      "ENSG00000000460  ...                          1361   \n",
      "\n",
      "                 TCGA-4Z-AA7Q-01A-11R-A39I-07  TCGA-UY-A8OD-01A-11R-A36F-07  \\\n",
      "ENSG00000000003                          3733                          2869   \n",
      "ENSG00000000005                             0                            11   \n",
      "ENSG00000000419                          1292                           904   \n",
      "ENSG00000000457                           880                           432   \n",
      "ENSG00000000460                           440                           191   \n",
      "\n",
      "                 TCGA-FJ-A3ZF-01A-11R-A23N-07  TCGA-E7-A6MF-01A-12R-A32O-07  \\\n",
      "ENSG00000000003                          7460                          3980   \n",
      "ENSG00000000005                             1                             2   \n",
      "ENSG00000000419                          1548                          1338   \n",
      "ENSG00000000457                          2518                          1267   \n",
      "ENSG00000000460                          4258                           160   \n",
      "\n",
      "                 TCGA-E7-A4IJ-01A-31R-A26T-07  TCGA-DK-A3IN-01A-11R-A20F-07  \\\n",
      "ENSG00000000003                          5936                          5761   \n",
      "ENSG00000000005                             0                             0   \n",
      "ENSG00000000419                          1659                          1441   \n",
      "ENSG00000000457                           768                           746   \n",
      "ENSG00000000460                           625                          1369   \n",
      "\n",
      "                 TCGA-FD-A6TA-01A-12R-A33J-07  TCGA-UY-A8OB-01A-12R-A42T-07  \\\n",
      "ENSG00000000003                          6987                          2307   \n",
      "ENSG00000000005                             1                             0   \n",
      "ENSG00000000419                          1466                          2135   \n",
      "ENSG00000000457                           501                           169   \n",
      "ENSG00000000460                           297                           364   \n",
      "\n",
      "                 TCGA-UY-A9PE-01A-11R-A38B-07  \n",
      "ENSG00000000003                          5307  \n",
      "ENSG00000000005                             0  \n",
      "ENSG00000000419                          1035  \n",
      "ENSG00000000457                           578  \n",
      "ENSG00000000460                           704  \n",
      "\n",
      "[5 rows x 431 columns]\n"
     ]
    }
   ],
   "source": [
    "import pandas as pd\n",
    "\n",
    "L1HS = pd.read_csv('~/PycharmProjects/TransposableElements/Data/tpmL1HS.csv', index_col='Element')\n",
    "Gene = pd.read_csv('~/PycharmProjects/TransposableElements/Data/TCGAgene.csv', index_col='Gene')\n",
    "# in my case I needed to isolate ensembl IDs\n",
    "Gene.index = [x.split('.')[0] for x in Gene.index.values.tolist()]\n",
    "print(Gene.head())\n",
    "print(L1HS.head())"
   ],
   "metadata": {
    "collapsed": false,
    "pycharm": {
     "name": "#%%\n"
    }
   }
  },
  {
   "cell_type": "markdown",
   "source": [
    "## Setting a locality metric\n",
    "\n",
    "According to Ribeiro et, al. (https://www.nature.com/articles/s42003-022-03831-w) Genes are considered 'immediately local' if they are <100Kb from their neighbour and 'nearby' if they are <1Mb from their neighbour. However, a specific value for such a concept is very difficult to define. For this analyses I will use the 'immediately local' value."
   ],
   "metadata": {
    "collapsed": false,
    "pycharm": {
     "name": "#%% md\n"
    }
   }
  },
  {
   "cell_type": "code",
   "execution_count": 114,
   "outputs": [],
   "source": [
    "locality = 1000"
   ],
   "metadata": {
    "collapsed": false,
    "pycharm": {
     "name": "#%%\n"
    }
   }
  },
  {
   "cell_type": "markdown",
   "source": [
    "1. prepare the TE dataframe for BEDTOOLS alignment\n",
    "* to identify 'immediately local' genes we also need to add 'locality margins' to our TE locations by subtracting out locality metric from the 'start' and adding the locality metric to 'end' as shown below\n",
    "\n",
    "format:\n",
    "    Chr[Z] start[- locality] end[+ locality]\n",
    "    Chr[Z] start[- locality] end[+ locality]\n",
    "    Chr[Z] start[- locality] end[+ locality]\n"
   ],
   "metadata": {
    "collapsed": false,
    "pycharm": {
     "name": "#%% md\n"
    }
   }
  },
  {
   "cell_type": "code",
   "execution_count": 115,
   "outputs": [],
   "source": [
    "elementLocations = []\n",
    "\n",
    "for element in L1HS.index.values.tolist():\n",
    "    components = element.split(',')[0].split('_')\n",
    "    chromosome = 'chr' + str(components[2])\n",
    "    start = components[4]\n",
    "    end = components[5]\n",
    "    elementLocation = [chromosome, int(start) - locality, int(end) + locality,element]\n",
    "    elementLocations.append(elementLocation)"
   ],
   "metadata": {
    "collapsed": false,
    "pycharm": {
     "name": "#%%\n"
    }
   }
  },
  {
   "cell_type": "markdown",
   "source": [
    "I will also need to prepare a bed file for my reference genes\n",
    "\n",
    "to do so I first need to extract genomic locations of these genes based on their ENSEMBL ids\n",
    "1. Download the appropriate reference genome used for the alignment of your samples in my case this is GRCh38. to do so you simply run: 'pyensembl install --release [genome number] --species homo_sapiens' in your terminal window (GRCh38 is 77)\n",
    "2. Extract genomic location of gene (chr, start, stop, gene name)"
   ],
   "metadata": {
    "collapsed": false,
    "pycharm": {
     "name": "#%% md\n"
    }
   }
  },
  {
   "cell_type": "code",
   "execution_count": 116,
   "outputs": [],
   "source": [
    "import pyensembl\n",
    "\n",
    "data = pyensembl.EnsemblRelease(77)\n",
    "\n",
    "geneLocations = []\n",
    "try:\n",
    "    for i, ensembl in enumerate(Gene.index.values.tolist()):\n",
    "        chromosome = 'chr' + str(data.gene_by_id(ensembl).contig)\n",
    "        start = str(data.gene_by_id(ensembl).start)\n",
    "        end = str(data.gene_by_id(ensembl).end)\n",
    "        gene = str(data.gene_by_id(ensembl).gene_name)\n",
    "        geneLocation = [chromosome, int(start), int(end), gene]\n",
    "        geneLocations.append(geneLocation)\n",
    "except ValueError:\n",
    "    pass"
   ],
   "metadata": {
    "collapsed": false,
    "pycharm": {
     "name": "#%%\n"
    }
   }
  },
  {
   "cell_type": "markdown",
   "source": [
    "# perform intersection"
   ],
   "metadata": {
    "collapsed": false,
    "pycharm": {
     "name": "#%% md\n"
    }
   }
  },
  {
   "cell_type": "code",
   "execution_count": 117,
   "outputs": [],
   "source": [
    "import pybedtools\n",
    "\n",
    "TE = pybedtools.BedTool(elementLocations)\n",
    "GENE = pybedtools.BedTool(geneLocations)\n",
    "\n",
    "intersect = TE.intersect(GENE, wo=True)\n",
    "intersectdf = pd.read_table(intersect.fn, names= ['TEchr', 'TEstart', 'TEend', 'TEname', 'GENEchr', 'GENEstart', 'GENEend', 'GENEname', 'OVERLAP'])"
   ],
   "metadata": {
    "collapsed": false,
    "pycharm": {
     "name": "#%%\n"
    }
   }
  },
  {
   "cell_type": "markdown",
   "source": [
    "# correlate expression of TE and local gene\n",
    "\n",
    "1. Although not necessary for small datasets, I am going to create a dictionary 'local genes' as keys and 'local TEs' as values\n",
    "2."
   ],
   "metadata": {
    "collapsed": false,
    "pycharm": {
     "name": "#%% md\n"
    }
   }
  },
  {
   "cell_type": "code",
   "execution_count": 118,
   "outputs": [
    {
     "name": "stdout",
     "output_type": "stream",
     "text": [
      "{'ENSG00000200344': ['L1HS_intron_1__28985834_28986182', 'L1HS_intergenic_10__37995444_38000000'], 'ENSG00000159023': ['L1HS_intron_1__28985834_28986182'], 'ENSG00000142687': ['L1HS_intron_1__35484808_35485000'], 'ENSG00000010803': ['L1HS_intron_1__41207752_41208441'], 'ENSG00000127124': ['L1HS_intron_1__41854524_41855316', 'L1HS_intron_1__41855316_41855560', 'L1HS_intergenic_1__41989724_41990366'], 'ENSG00000185104': ['L1HS_intron_1__50918192_50918966'], 'ENSG00000173406': ['L1HS_intergenic_1__58114947_58115999'], 'ENSG00000224209': ['L1HS_intron_1__63239741_63240562', 'L1HS_intron_1__63240556_63242477'], 'ENSG00000116678': ['L1HS_intron_1__65443957_65444209'], 'ENSG00000172260': ['L1HS_intron_1__71513699_71519742', 'L1HS_intron_1__72110156_72110234'], 'ENSG00000116783': ['L1HS_intron_1__74447378_74448273', 'L1HS_intron_1__74518882_74519571'], 'ENSG00000259030': ['L1HS_intron_1__74447378_74448273', 'L1HS_intron_1__74518882_74519571'], 'ENSG00000117069': ['L1HS_intron_1__77000001_77005515'], 'ENSG00000180488': ['L1HS_intron_1__77808136_77808220'], 'ENSG00000237413': ['L1HS_intron_1__78243563_78245813', 'L1HS_intron_1__78245812_78246083'], 'ENSG00000171502': ['L1HS_intron_1__85748520_85754548', 'L1HS_intron_1__85927068_85933100'], 'ENSG00000236915': ['L1HS_intron_1__86679081_86685111'], 'ENSG00000162669': ['L1HS_intron_1__91387591_91387929'], 'ENSG00000237435': ['L1HS_intron_1__95942327_95942381'], 'ENSG00000226053': ['L1HS_intron_1__98254179_98254224'], 'ENSG00000233359': ['L1HS_intron_1__102230800_102231031', 'L1HS_intron_1__102231032_102231475'], 'ENSG00000162636': ['L1HS_intron_1__108578638_108579660'], 'ENSG00000081026': ['L1HS_intron_1__113497221_113500000', 'L1HS_intron_1__113500001_113503257'], 'ENSG00000231752': ['L1HS_intron_1__121532231_121538261'], 'ENSG00000276975': ['L1HS_intron_1__146717193_146723218'], 'ENSG00000143420': ['L1HS_intron_1__150602737_150602846'], 'ENSG00000230942': ['L1HS_intergenic_1__158267627_158268392'], 'ENSG00000143248': ['L1HS_intron_1__163262157_163262841', 'L1HS_intron_1__163262157_163262841'], 'ENSG00000152061': ['L1HS_intron_1__174590324_174596379', 'L1HS_intron_1__174629929_174633018'], 'ENSG00000116183': ['L1HS_intron_1__176750923_176751268', 'L1HS_intron_1__176751264_176752355'], 'ENSG00000143324': ['L1HS_intron_1__180699214_180703631', 'L1HS_intron_1__180866812_180872843'], 'ENSG00000135842': ['L1HS_intron_1__184845617_184851641'], 'ENSG00000225006': ['L1HS_intron_1__188518008_188518379'], 'ENSG00000162670': ['L1HS_intron_1__190299691_190300454', 'L1HS_intron_1__190300454_190301044'], 'ENSG00000225811': ['L1HS_intron_1__190299691_190300454', 'L1HS_intron_1__190300454_190301044'], 'ENSG00000231175': ['L1HS_intron_1__190734390_190734976'], 'ENSG00000226640': ['L1HS_intron_1__193717838_193723892'], 'ENSG00000162687': ['L1HS_intergenic_1__196219371_196225402'], 'ENSG00000213047': ['L1HS_intron_1__197531456_197532243', 'L1HS_intron_1__197532241_197534154', 'L1HS_intron_1__197707715_197713746'], 'ENSG00000235492': ['L1HS_intron_1__199023372_199024434', 'L1HS_intron_1__199024429_199025579'], 'ENSG00000118873': ['L1HS_intron_1__220245156_220246008'], 'ENSG00000143502': ['L1HS_intron_1__223317835_223318710', 'L1HS_intron_1__223318707_223319462'], 'ENSG00000185842': ['L1HS_intron_1__225126291_225128261'], 'ENSG00000162946': ['L1HS_intron_1__231646102_231652225'], 'ENSG00000270106': ['L1HS_intron_1__231646102_231652225'], 'ENSG00000198626': ['L1HS_intron_1__237075265_237081293'], 'ENSG00000133019': ['L1HS_intergenic_1__239623499_239629523'], 'ENSG00000235749': ['L1HS_intron_1__247687174_247693204'], 'ENSG00000172554': ['L1HS_intron_2__993075_993292'], 'ENSG00000186487': ['L1HS_intron_2__2257645_2257694', 'L1HS_intron_2__2257684_2259565'], 'ENSG00000224184': ['L1HS_intron_2__12346166_12346561'], 'ENSG00000197872': ['L1HS_intron_2__16593726_16599758'], 'ENSG00000277893': ['L1HS_intron_2__31575999_31577158'], 'ENSG00000226994': ['L1HS_intron_2__34819531_34820120'], 'ENSG00000170820': ['L1HS_intron_2__49082014_49082111'], 'ENSG00000231918': ['L1HS_intron_2__51854014_51855361', 'L1HS_intron_2__51939020_51939938'], 'ENSG00000233891': ['L1HS_intron_2__59554690_59556387'], 'ENSG00000271955': ['L1HS_intron_2__59554690_59556387'], 'ENSG00000173163': ['L1HS_intron_2__61979748_61980833'], 'ENSG00000075292': ['L1HS_intron_2__71411475_71417501'], 'ENSG00000135631': ['L1HS_intergenic_2__73127302_73127728'], 'ENSG00000249884': ['L1HS_intron_2__86655239_86661268'], 'ENSG00000153574': ['L1HS_intron_2__88729713_88732741'], 'ENSG00000135976': ['L1HS_intron_2__97220790_97222318'], 'ENSG00000172985': ['L1HS_intron_2__109309332_109311588'], 'ENSG00000114999': ['L1HS_intron_2__112503813_112509845'], 'ENSG00000175497': ['L1HS_intron_2__115487080_115488893'], 'ENSG00000125631': ['L1HS_intron_2__117909619_117909989'], 'ENSG00000235491': ['L1HS_intron_2__125752528_125753003'], 'ENSG00000176771': ['L1HS_intron_2__133299871_133302778'], 'ENSG00000152127': ['L1HS_intron_2__134209191_134212559'], 'ENSG00000168702': ['L1HS_intron_2__142031336_142031543'], 'ENSG00000204406': ['L1HS_intron_2__148188746_148194773'], 'ENSG00000123612': ['L1HS_intron_2__157566354_157572377'], 'ENSG00000115221': ['L1HS_intron_2__160114517_160120680'], 'ENSG00000184611': ['L1HS_intron_2__162568876_162570712'], 'ENSG00000237844': ['L1HS_intron_2__164120938_164121719', 'L1HS_intron_2__164121719_164123622'], 'ENSG00000163092': ['L1HS_intron_2__166988455_166994509'], 'ENSG00000081479': ['L1HS_intron_2__169248624_169254656'], 'ENSG00000232555': ['L1HS_intron_2__172315271_172321297'], 'ENSG00000128655': ['L1HS_intron_2__177973074_177979090'], 'ENSG00000236664': ['L1HS_intron_2__177973074_177979090'], 'ENSG00000115252': ['L1HS_intron_2__182430117_182431117'], 'ENSG00000197121': ['L1HS_intron_2__196905588_196911636'], 'ENSG00000065413': ['L1HS_intron_2__197062487_197068374'], 'ENSG00000225421': ['L1HS_intron_2__198581744_198581976'], 'ENSG00000116117': ['L1HS_intron_2__204766999_204770540'], 'ENSG00000021826': ['L1HS_intron_2__210554653_210554758'], 'ENSG00000273118': ['L1HS_intron_2__212701890_212702641'], 'ENSG00000144451': ['L1HS_intron_2__213567232_213573262', 'L1HS_intron_2__213677128_213678530', 'L1HS_intron_2__213782921_213783282', 'L1HS_intron_2__213783283_213783330'], 'ENSG00000231672': ['L1HS_intron_2__217311224_217311785'], 'ENSG00000233143': ['L1HS_intron_2__217311224_217311785'], 'ENSG00000185404': ['L1HS_intron_2__230337070_230342513'], 'ENSG00000144535': ['L1HS_intron_2__232149197_232155229'], 'ENSG00000072756': ['L1HS_intron_3__3131463_3132695'], 'ENSG00000144455': ['L1HS_intergenic_3__3963077_3969110', 'L1HS_intergenic_3__4025298_4026387', 'L1HS_intergenic_3__4026384_4027874', 'L1HS_intergenic_3__4039210_4039663'], 'ENSG00000235831': ['L1HS_intron_3__4916535_4922591'], 'ENSG00000196277': ['L1HS_intron_3__7305331_7305636'], 'ENSG00000235240': ['L1HS_intron_3__11488673_11492490'], 'ENSG00000197548': ['L1HS_intron_3__11488673_11492490'], 'ENSG00000131374': ['L1HS_intergenic_3__17858275_17861391'], 'ENSG00000228956': ['L1HS_intron_3__18516081_18520244'], 'ENSG00000183960': ['L1HS_intron_3__19340359_19340481', 'L1HS_intron_3__19498549_19499015', 'L1HS_intron_3__19498994_19500000'], 'ENSG00000151789': ['L1HS_intergenic_3__22050868_22053197', 'L1HS_intergenic_3__22053196_22056308'], 'ENSG00000163539': ['L1HS_intron_3__33511667_33512570'], 'ENSG00000231382': ['L1HS_intron_3__36621476_36625027'], 'ENSG00000170011': ['L1HS_intron_3__39885312_39886052', 'L1HS_intron_3__40040198_40040993'], 'ENSG00000168038': ['L1HS_intron_3__41492404_41495901', 'L1HS_intron_3__41776583_41777857', 'L1HS_intron_3__41777858_41779998'], 'ENSG00000188086': ['L1HS_intron_3__46783106_46789138'], 'ENSG00000206549': ['L1HS_intron_3__46783106_46789138'], 'ENSG00000157445': ['L1HS_intron_3__54394323_54400323'], 'ENSG00000189283': ['L1HS_intron_3__60699597_60699698'], 'ENSG00000241316': ['L1HS_intron_3__67815074_67815645'], 'ENSG00000169855': ['L1HS_intron_3__79129778_79133955', 'L1HS_intron_3__79133948_79135047'], 'ENSG00000114480': ['L1HS_intron_3__81629028_81629427', 'L1HS_intron_3__81720741_81721198', 'L1HS_intron_3__81721236_81721255'], 'ENSG00000239440': ['L1HS_intron_3__82337500_82339442'], 'ENSG00000044524': ['L1HS_intron_3__89460826_89466856'], 'ENSG00000114423': ['L1HS_intron_3__105755024_105755278'], 'ENSG00000242759': ['L1HS_intron_3__107094849_107094944'], 'ENSG00000240423': ['L1HS_intron_3__107885797_107888284', 'L1HS_intron_3__107888285_107889121'], 'ENSG00000163515': ['L1HS_intergenic_3__108749401_108755425'], 'ENSG00000240375': ['L1HS_intron_3__113920924_113922065'], 'ENSG00000178075': ['L1HS_intron_3__113920924_113922065', 'L1HS_intron_3__113922373_113925209', 'L1HS_intron_3__113925506_113928311'], 'ENSG00000181722': ['L1HS_intron_3__114662899_114663987'], 'ENSG00000172020': ['L1HS_intron_3__115669998_115670408'], 'ENSG00000240922': ['L1HS_intron_3__116360000_116366026'], 'ENSG00000185565': ['L1HS_intron_3__116360000_116366026'], 'ENSG00000082701': ['L1HS_intron_3__119862108_119862537'], 'ENSG00000145087': ['L1HS_intron_3__121036780_121036850', 'L1HS_intron_3__121088065_121089105', 'L1HS_intron_3__121401301_121401907'], 'ENSG00000221955': ['L1HS_intron_3__125171201_125171924'], 'ENSG00000228252': ['L1HS_intron_3__130253717_130253925'], 'ENSG00000206384': ['L1HS_intron_3__130628735_130628819', 'L1HS_intron_3__130628809_130634065'], 'ENSG00000196353': ['L1HS_intron_3__131570343_131570468'], 'ENSG00000248724': ['L1HS_intron_3__132807089_132809933', 'L1HS_intron_3__132809925_132810005'], 'ENSG00000154928': ['L1HS_intron_3__134955120_134955521', 'L1HS_intron_3__134955522_134955716', 'L1HS_intron_3__135002248_135005976'], 'ENSG00000240086': ['L1HS_intron_3__135438382_135439146'], 'ENSG00000118007': ['L1HS_intron_3__136479057_136485103'], 'ENSG00000174564': ['L1HS_intron_3__136963694_136969736'], 'ENSG00000249407': ['L1HS_intron_3__136963694_136969736'], 'ENSG00000163864': ['L1HS_intron_3__139590957_139596035'], 'ENSG00000152977': ['L1HS_intergenic_3__147480522_147480582'], 'ENSG00000243305': ['L1HS_intron_3__152460460_152460627'], 'ENSG00000152601': ['L1HS_intron_3__152460460_152460627'], 'ENSG00000169282': ['L1HS_intron_3__156342586_156342747'], 'ENSG00000242536': ['L1HS_intron_3__158019677_158025704'], 'ENSG00000174891': ['L1HS_intron_3__158530809_158530905'], 'ENSG00000214216': ['L1HS_intron_3__159095380_159101394'], 'ENSG00000241369': ['L1HS_intron_3__163236942_163242962'], 'ENSG00000244128': ['L1HS_intron_3__165585584_165586780'], 'ENSG00000206120': ['L1HS_intron_3__168353097_168355115'], 'ENSG00000085276': ['L1HS_intron_3__169360229_169360269'], 'ENSG00000053524': ['L1HS_intron_3__183234697_183238141'], 'ENSG00000145012': ['L1HS_intron_3__188544444_188545266', 'L1HS_intron_3__188636045_188636956'], 'ENSG00000163995': ['L1HS_intron_4__7994081_7994774', 'L1HS_intron_4__7994775_7995173'], 'ENSG00000109667': ['L1HS_intergenic_4__9772823_9772938'], 'ENSG00000248360': ['L1HS_intron_4__14684283_14684649', 'L1HS_intron_4__14755115_14761144'], 'ENSG00000004468': ['L1HS_intron_4__15841547_15847572'], 'ENSG00000185774': ['L1HS_intron_4__21159391_21165421'], 'ENSG00000250137': ['L1HS_intergenic_4__23614772_23620793'], 'ENSG00000109689': ['L1HS_intron_4__26922945_26927693'], 'ENSG00000047365': ['L1HS_intron_4__36109719_36109882'], 'ENSG00000163285': ['L1HS_intron_4__46053987_46054994', 'L1HS_intron_4__46054989_46056117'], 'ENSG00000170516': ['L1HS_intron_4__46794992_46796316', 'L1HS_intron_4__46796311_46797122', 'L1HS_intron_4__46880729_46881006'], 'ENSG00000163288': ['L1HS_intron_4__47259887_47260715'], 'ENSG00000109171': ['L1HS_intron_4__48414558_48416648', 'L1HS_intron_4__48416645_48417873'], 'ENSG00000075539': ['L1HS_intron_4__48734680_48734846', 'L1HS_intron_4__48734845_48735984'], 'ENSG00000109182': ['L1HS_intron_4__49055915_49056255'], 'ENSG00000250302': ['L1HS_intergenic_4__52816457_52822486'], 'ENSG00000150471': ['L1HS_intron_4__61939928_61945962'], 'ENSG00000145309': ['L1HS_intergenic_4__70328907_70334307'], 'ENSG00000138764': ['L1HS_intergenic_4__77315136_77315383'], 'ENSG00000138759': ['L1HS_intron_4__78105736_78111765', 'L1HS_intron_4__78347981_78354013'], 'ENSG00000163297': ['L1HS_intron_4__79937716_79943746', 'L1HS_intron_4__79966908_79972933'], 'ENSG00000197826': ['L1HS_intron_4__80890481_80891357', 'L1HS_intron_4__80891358_80891805'], 'ENSG00000248543': ['L1HS_intron_4__82008161_82010240'], 'ENSG00000138670': ['L1HS_intron_4__82008161_82010240'], 'ENSG00000250546': ['L1HS_intron_4__84073443_84073473'], 'ENSG00000138639': ['L1HS_intron_4__85891218_85893779', 'L1HS_intron_4__85893781_85894112'], 'ENSG00000163629': ['L1HS_intron_4__86628504_86629020', 'L1HS_intron_4__86629021_86629506'], 'ENSG00000198189': ['L1HS_intron_4__87347104_87353146'], 'ENSG00000118777': ['L1HS_intron_4__88161171_88162042'], 'ENSG00000184305': ['L1HS_intron_4__90675740_90681757', 'L1HS_intron_4__91437492_91443691'], 'ENSG00000152208': ['L1HS_intron_4__93123956_93124119', 'L1HS_intron_4__93608284_93614338', 'L1HS_intron_4__93638308_93644337'], 'ENSG00000182168': ['L1HS_intron_4__95328041_95328797'], 'ENSG00000168785': ['L1HS_intron_4__98592436_98598463'], 'ENSG00000196344': ['L1HS_intron_4__99425025_99427074'], 'ENSG00000153064': ['L1HS_intron_4__101866629_101867173'], 'ENSG00000164037': ['L1HS_intron_4__102951968_102954450'], 'ENSG00000248242': ['L1HS_intron_4__104803117_104803890', 'L1HS_intron_4__104803888_104804858'], 'ENSG00000155011': ['L1HS_intron_4__107206673_107210557'], 'ENSG00000249815': ['L1HS_intron_4__111894802_111900831'], 'ENSG00000236922': ['L1HS_intron_4__117659091_117660578'], 'ENSG00000250183': ['L1HS_intron_4__119948727_119954758'], 'ENSG00000250392': ['L1HS_intron_4__119948727_119954758'], 'ENSG00000250938': ['L1HS_intron_4__120165939_120166011'], 'ENSG00000138688': ['L1HS_intron_4__122332631_122333564'], 'ENSG00000227145': ['L1HS_intron_4__122652659_122656850'], 'ENSG00000249837': ['L1HS_intron_4__124152907_124154086', 'L1HS_intron_4__124154087_124155087'], 'ENSG00000250102': ['L1HS_intron_4__131420022_131421583'], 'ENSG00000248434': ['L1HS_intron_4__135079465_135083851', 'L1HS_intron_4__135083847_135085378'], 'ENSG00000248330': ['L1HS_intron_4__135873828_135873935'], 'ENSG00000251567': ['L1HS_intron_4__136293495_136299546'], 'ENSG00000170153': ['L1HS_intron_4__140895871_140896700'], 'ENSG00000164142': ['L1HS_intron_4__151419569_151420408'], 'ENSG00000109756': ['L1HS_intron_4__159302762_159302861'], 'ENSG00000145416': ['L1HS_intron_4__163737216_163737633', 'L1HS_intron_4__163737634_163737985'], 'ENSG00000249675': ['L1HS_intron_4__166447925_166449408', 'L1HS_intron_4__166449406_166449678'], 'ENSG00000196104': ['L1HS_intron_4__166755896_166761908', 'L1HS_intron_4__166850456_166851634'], 'ENSG00000181381': ['L1HS_intron_4__168449245_168449628'], 'ENSG00000137601': ['L1HS_intron_4__169515502_169521532'], 'ENSG00000248339': ['L1HS_intron_4__171296380_171296690'], 'ENSG00000249731': ['L1HS_intron_5__1968296_1968621', 'L1HS_intergenic_5__1968619_1971481'], 'ENSG00000248973': ['L1HS_intron_5__4500002_4502372'], 'ENSG00000078295': ['L1HS_intron_5__7603829_7606131'], 'ENSG00000112902': ['L1HS_intron_5__9259337_9259624', 'L1HS_intron_5__9259625_9262908'], 'ENSG00000169862': ['L1HS_intron_5__11130083_11130171'], 'ENSG00000154122': ['L1HS_intron_5__14808599_14809348'], 'ENSG00000183580': ['L1HS_intron_5__15906516_15912550', 'L1HS_intron_5__15913236_15913373'], 'ENSG00000251629': ['L1HS_intron_5__20644280_20646009', 'L1HS_intron_5__20646007_20647006'], 'ENSG00000183666': ['L1HS_intron_5__21467713_21468128'], 'ENSG00000164175': ['L1HS_intron_5__33952693_33953527', 'L1HS_intron_5__33953513_33954136'], 'ENSG00000082068': ['L1HS_intron_5__37459373_37460699'], 'ENSG00000182836': ['L1HS_intron_5__41403404_41403914'], 'ENSG00000185305': ['L1HS_intron_5__54267660_54268642'], 'ENSG00000250961': ['L1HS_intron_5__57475595_57475732'], 'ENSG00000113448': ['L1HS_intron_5__59477305_59477366'], 'ENSG00000069020': ['L1HS_intron_5__66750284_66754219'], 'ENSG00000250258': ['L1HS_intron_5__79778885_79784938'], 'ENSG00000164309': ['L1HS_intron_5__79778885_79784938'], 'ENSG00000113318': ['L1HS_intron_5__80785346_80786144'], 'ENSG00000145687': ['L1HS_intron_5__81616091_81622140'], 'ENSG00000205464': ['L1HS_intergenic_5__82369249_82372017'], 'ENSG00000199786': ['L1HS_intergenic_5__102131357_102137385'], 'ENSG00000251574': ['L1HS_intron_5__104518588_104524616'], 'ENSG00000249476': ['L1HS_intron_5__109259388_109265418'], 'ENSG00000152495': ['L1HS_intron_5__111302239_111308262'], 'ENSG00000248268': ['L1HS_intron_5__111302239_111308262'], 'ENSG00000133835': ['L1HS_intergenic_5__119599332_119605464'], 'ENSG00000249600': ['L1HS_intergenic_5__121670376_121670615'], 'ENSG00000053108': ['L1HS_intron_5__133583289_133589299'], 'ENSG00000043143': ['L1HS_intron_5__134557380_134558539'], 'ENSG00000120725': ['L1HS_intron_5__139083303_139084162', 'L1HS_intron_5__139084163_139084795'], 'ENSG00000250407': ['L1HS_intron_5__146609486_146615534'], 'ENSG00000156475': ['L1HS_intron_5__146609486_146615534', 'L1HS_intron_5__146843727_146844076', 'L1HS_intron_5__146844077_146844366'], 'ENSG00000254226': ['L1HS_intron_5__152076869_152082891', 'L1HS_intron_5__152096678_152096805'], 'ENSG00000249484': ['L1HS_intergenic_5__152886442_152892473', 'L1HS_intergenic_5__153070983_153077008'], 'ENSG00000170624': ['L1HS_intron_5__156061920_156067966'], 'ENSG00000164330': ['L1HS_intron_5__158879616_158879725'], 'ENSG00000118322': ['L1HS_intron_5__160709609_160715639'], 'ENSG00000254171': ['L1HS_intron_5__166141192_166145692'], 'ENSG00000170074': ['L1HS_intron_5__177772246_177778274'], 'ENSG00000250903': ['L1HS_intergenic_6__2417775_2423803'], 'ENSG00000112186': ['L1HS_intron_6__17434796_17435694'], 'ENSG00000111913': ['L1HS_intron_6__24811658_24817706'], 'ENSG00000156639': ['L1HS_intron_6__37880808_37881023', 'L1HS_intron_6__37908425_37908481'], 'ENSG00000164627': ['L1HS_intron_6__39677508_39678029', 'L1HS_intron_6__39678030_39678327'], 'ENSG00000170927': ['L1HS_intron_6__51874784_51880802'], 'ENSG00000224984': ['L1HS_intergenic_6__54838171_54839319', 'L1HS_intergenic_6__54839314_54839678'], 'ENSG00000112232': ['L1HS_intron_6__62060944_62062026'], 'ENSG00000188107': ['L1HS_intron_6__65550340_65551058', 'L1HS_intron_6__65551059_65552137'], 'ENSG00000082293': ['L1HS_intron_6__70010348_70016552'], 'ENSG00000112305': ['L1HS_intron_6__70777213_70777351'], 'ENSG00000232422': ['L1HS_intron_6__72988655_72994686'], 'ENSG00000185760': ['L1HS_intron_6__72988655_72994686'], 'ENSG00000135314': ['L1HS_intron_6__73285653_73285802'], 'ENSG00000229852': ['L1HS_intron_6__73285653_73285802'], 'ENSG00000223786': ['L1HS_intron_6__74155743_74156868'], 'ENSG00000005700': ['L1HS_intron_6__82190377_82190424'], 'ENSG00000065833': ['L1HS_intron_6__83333953_83339981'], 'ENSG00000217334': ['L1HS_intergenic_6__85732379_85732424', 'L1HS_intergenic_6__85732775_85732788'], 'ENSG00000229315': ['L1HS_intron_6__100028621_100029829'], 'ENSG00000112290': ['L1HS_intron_6__110155537_110158535'], 'ENSG00000146350': ['L1HS_intron_6__121162717_121168725'], 'ENSG00000186439': ['L1HS_intron_6__123255943_123256969', 'L1HS_intron_6__123257277_123259262'], 'ENSG00000111906': ['L1HS_intron_6__125288565_125289494'], 'ENSG00000226409': ['L1HS_intron_6__125371452_125372079'], 'ENSG00000196569': ['L1HS_intron_6__128998386_129000000', 'L1HS_intron_6__129000001_129004416'], 'ENSG00000227954': ['L1HS_intron_6__133649978_133653226'], 'ENSG00000135525': ['L1HS_intron_6__136391159_136391555'], 'ENSG00000112357': ['L1HS_intron_6__136850970_136852213', 'L1HS_intron_6__136852220_136853121'], 'ENSG00000225415': ['L1HS_intron_6__138822643_138822739'], 'ENSG00000203734': ['L1HS_intron_6__138822643_138822739'], 'ENSG00000111962': ['L1HS_intron_6__148824679_148825066'], 'ENSG00000120279': ['L1HS_intron_6__152708861_152712430', 'L1HS_intron_6__152712430_152712656'], 'ENSG00000146477': ['L1HS_intron_6__160409021_160409644'], 'ENSG00000185345': ['L1HS_intron_6__161982232_161983919'], 'ENSG00000112539': ['L1HS_intron_6__165303280_165306483'], 'ENSG00000215018': ['L1HS_intron_7__7465093_7471120'], 'ENSG00000219545': ['L1HS_intron_7__7846819_7847069'], 'ENSG00000230333': ['L1HS_intron_7__11425952_11426070'], 'ENSG00000005108': ['L1HS_intron_7__11425952_11426070', 'L1HS_intron_7__11521464_11521742'], 'ENSG00000226690': ['L1HS_intron_7__12497212_12500000'], 'ENSG00000136267': ['L1HS_intron_7__14590009_14590173'], 'ENSG00000146592': ['L1HS_intron_7__28743850_28744251'], 'ENSG00000106100': ['L1HS_intron_7__30439243_30445274'], 'ENSG00000136250': ['L1HS_intron_7__36703395_36704355'], 'ENSG00000164742': ['L1HS_intron_7__45693656_45694128'], 'ENSG00000233454': ['L1HS_intergenic_7__63060743_63060838', 'L1HS_intergenic_7__63060806_63064564'], 'ENSG00000231523': ['L1HS_intron_7__63148832_63154859'], 'ENSG00000169902': ['L1HS_intron_7__66286854_66292884'], 'ENSG00000158321': ['L1HS_intron_7__70197329_70203357', 'L1HS_intron_7__70363339_70363484'], 'ENSG00000127946': ['L1HS_intron_7__75706632_75707603', 'L1HS_intron_7__75707602_75708148'], 'ENSG00000170381': ['L1HS_intron_7__83606345_83606775'], 'ENSG00000227646': ['L1HS_intron_7__90074305_90075228'], 'ENSG00000058091': ['L1HS_intron_7__91173444_91179517'], 'ENSG00000127928': ['L1HS_intron_7__93787625_93793679'], 'ENSG00000128536': ['L1HS_intron_7__105980639_105980691'], 'ENSG00000184903': ['L1HS_intron_7__110707005_110713024', 'L1HS_intron_7__111243516_111249546'], 'ENSG00000128512': ['L1HS_intron_7__111963194_111969223'], 'ENSG00000001626': ['L1HS_intron_7__117525233_117526161', 'L1HS_intron_7__117526159_117529529'], 'ENSG00000224897': ['L1HS_intron_7__125179571_125181978'], 'ENSG00000186591': ['L1HS_intron_7__129867238_129867712'], 'ENSG00000259920': ['L1HS_intergenic_7__130480812_130481404'], 'ENSG00000226380': ['L1HS_intron_7__130891935_130892319'], 'ENSG00000233559': ['L1HS_intron_7__130891935_130892319'], 'ENSG00000172331': ['L1HS_intron_7__134665253_134665611', 'L1HS_intron_7__134665643_134665661'], 'ENSG00000182158': ['L1HS_intron_7__137973071_137973186'], 'ENSG00000258083': ['L1HS_intergenic_7__141920660_141926712'], 'ENSG00000258227': ['L1HS_intergenic_7__141920660_141926712'], 'ENSG00000257335': ['L1HS_intergenic_7__141920660_141926712'], 'ENSG00000196511': ['L1HS_intron_7__144685712_144685805'], 'ENSG00000174469': ['L1HS_intron_7__147842592_147848623'], 'ENSG00000171115': ['L1HS_intron_7__150461139_150461772'], 'ENSG00000271568': ['L1HS_intergenic_7__150597095_150602628', 'L1HS_intergenic_7__150602829_150603350'], 'ENSG00000130226': ['L1HS_intron_7__154457148_154457985'], 'ENSG00000173273': ['L1HS_intron_8__9736453_9738999', 'L1HS_intron_8__9738998_9740068'], 'ENSG00000253496': ['L1HS_intron_8__16689251_16689343'], 'ENSG00000078674': ['L1HS_intron_8__18002054_18002950'], 'ENSG00000156011': ['L1HS_intron_8__18597108_18598423', 'L1HS_intron_8__18910122_18910650'], 'ENSG00000253535': ['L1HS_intron_8__24837129_24837175'], 'ENSG00000253690': ['L1HS_intron_8__28292303_28292793'], 'ENSG00000254129': ['L1HS_intron_8__29120167_29121108', 'L1HS_intron_8__29121092_29121797'], 'ENSG00000197892': ['L1HS_intron_8__29120167_29121108', 'L1HS_intron_8__29121092_29121797'], 'ENSG00000165061': ['L1HS_intron_8__40861270_40862582'], 'ENSG00000147533': ['L1HS_intron_8__41503887_41504157'], 'ENSG00000254342': ['L1HS_intergenic_8__43371462_43371771'], 'ENSG00000164808': ['L1HS_intron_8__47332012_47333044'], 'ENSG00000147570': ['L1HS_intron_8__66024426_66026341'], 'ENSG00000221947': ['L1HS_intron_8__70671333_70671800'], 'ENSG00000182674': ['L1HS_intron_8__72875539_72881588'], 'ENSG00000253784': ['L1HS_intron_8__72875539_72881588'], 'ENSG00000104369': ['L1HS_intron_8__74289713_74290029', 'L1HS_intron_8__74290024_74292187'], 'ENSG00000254300': ['L1HS_intron_8__76425147_76426194'], 'ENSG00000253778': ['L1HS_intron_8__86803885_86805290'], 'ENSG00000253553': ['L1HS_intron_8__88345683_88346202', 'L1HS_intron_8__88346203_88346525', 'L1HS_intron_8__88685706_88691760'], 'ENSG00000253773': ['L1HS_intron_8__95370055_95370881', 'L1HS_intron_8__95370881_95371360'], 'ENSG00000104324': ['L1HS_intron_8__96898577_96898789'], 'ENSG00000132549': ['L1HS_intron_8__99178160_99178312', 'L1HS_intron_8__99220788_99221372'], 'ENSG00000169946': ['L1HS_intergenic_8__104739852_104745873', 'L1HS_intergenic_8__104958631_104959016', 'L1HS_intergenic_8__104959063_104964830'], 'ENSG00000164796': ['L1HS_intron_8__113059996_113060441'], 'ENSG00000246228': ['L1HS_intron_8__127311576_127315431'], 'ENSG00000254275': ['L1HS_intron_8__128453003_128459020'], 'ENSG00000129295': ['L1HS_intron_8__132660227_132660358'], 'ENSG00000236404': ['L1HS_intron_9__2515634_2521964'], 'ENSG00000080298': ['L1HS_intron_9__3398852_3398947'], 'ENSG00000137038': ['L1HS_intergenic_9__7863205_7867520'], 'ENSG00000153707': ['L1HS_intron_9__10136558_10137714'], 'ENSG00000164989': ['L1HS_intron_9__15950013_15951371'], 'ENSG00000173068': ['L1HS_intron_9__16465819_16467844'], 'ENSG00000107295': ['L1HS_intron_9__17780483_17781528'], 'ENSG00000155886': ['L1HS_intron_9__19584627_19584705'], 'ENSG00000188352': ['L1HS_intergenic_9__20655633_20658802'], 'ENSG00000174482': ['L1HS_intron_9__28111896_28117865'], 'ENSG00000276291': ['L1HS_exon_9__41007187_41007588'], 'ENSG00000277778': ['L1HS_exon_9__41007187_41007588'], 'ENSG00000215548': ['L1HS_intron_9__63844232_63844631'], 'ENSG00000165092': ['L1HS_intron_9__72921524_72921710'], 'ENSG00000197969': ['L1HS_intron_9__77398831_77399209'], 'ENSG00000165105': ['L1HS_intron_9__83049540_83055571'], 'ENSG00000172159': ['L1HS_intron_9__83450358_83450491'], 'ENSG00000228142': ['L1HS_intron_9__95697586_95703604'], 'ENSG00000119508': ['L1HS_intron_9__99853328_99855199'], 'ENSG00000198785': ['L1HS_intron_9__101681702_101682445'], 'ENSG00000225564': ['L1HS_intron_9__103237486_103241471'], 'ENSG00000165124': ['L1HS_intron_9__110417103_110423126'], 'ENSG00000030304': ['L1HS_intron_9__110791098_110797129'], 'ENSG00000148158': ['L1HS_intron_9__112798108_112804159'], 'ENSG00000201140': ['L1HS_intron_9__117198082_117200083'], 'ENSG00000148219': ['L1HS_intron_9__117198082_117200083', 'L1HS_intron_9__117200270_117204208'], 'ENSG00000188523': ['L1HS_intron_9__132526541_132529519'], 'ENSG00000151240': ['L1HS_intron_10__449596_449794'], 'ENSG00000231039': ['L1HS_intron_10__5245355_5251383'], 'ENSG00000272055': ['L1HS_intergenic_10__13217376_13218700'], 'ENSG00000204740': ['L1HS_intron_10__19088540_19088569', 'L1HS_intron_10__19088602_19094618', 'L1HS_intron_10__19160977_19161515'], 'ENSG00000151025': ['L1HS_intron_10__25368697_25371378'], 'ENSG00000224597': ['L1HS_intron_10__29423270_29423768'], 'ENSG00000183621': ['L1HS_intron_10__30961173_30961250'], 'ENSG00000224920': ['L1HS_intron_10__37524211_37524251'], 'ENSG00000226113': ['L1HS_intron_10__38262945_38264456', 'L1HS_intron_10__38264455_38265664'], 'ENSG00000185532': ['L1HS_intron_10__51679725_51679909', 'L1HS_intron_10__52181420_52182871'], 'ENSG00000183230': ['L1HS_intron_10__67305271_67305376'], 'ENSG00000133661': ['L1HS_intergenic_10__79965585_79966876', 'L1HS_intergenic_10__79966876_79967672'], 'ENSG00000273372': ['L1HS_intergenic_10__79966876_79967672'], 'ENSG00000226688': ['L1HS_intron_10__95948130_95949668'], 'ENSG00000172987': ['L1HS_intron_10__98782942_98788971', 'L1HS_intron_10__98960752_98962436', 'L1HS_intron_10__98962436_98962905'], 'ENSG00000148848': ['L1HS_intron_10__126056627_126057213', 'L1HS_intron_10__126057216_126057375'], 'ENSG00000132256': ['L1HS_intergenic_11__5914494_5918448'], 'ENSG00000254444': ['L1HS_intron_11__6172958_6173111'], 'ENSG00000221703': ['L1HS_intergenic_11__7233373_7234168'], 'ENSG00000254951': ['L1HS_intron_11__7811186_7813731'], 'ENSG00000271758': ['L1HS_intron_11__7811186_7813731'], 'ENSG00000254927': ['L1HS_intron_11__13827593_13827861', 'L1HS_intron_11__13827862_13828256'], 'ENSG00000255411': ['L1HS_intron_11__13827593_13827861', 'L1HS_intron_11__13827862_13828256'], 'ENSG00000110693': ['L1HS_intron_11__15974390_15974648', 'L1HS_intergenic_11__16565614_16565698'], 'ENSG00000170959': ['L1HS_intron_11__30965579_30967391', 'L1HS_intron_11__30967385_30967513', 'L1HS_intron_11__31315655_31321680'], 'ENSG00000166349': ['L1HS_intergenic_11__36551607_36557636'], 'ENSG00000148948': ['L1HS_intron_11__41075063_41075136'], 'ENSG00000205035': ['L1HS_intron_11__49704574_49704661', 'L1HS_intron_11__49793155_49797728'], 'ENSG00000149507': ['L1HS_intergenic_11__60048716_60050984'], 'ENSG00000137478': ['L1HS_intron_11__73049512_73049697'], 'ENSG00000149256': ['L1HS_intron_11__78677773_78683802'], 'ENSG00000245832': ['L1HS_intron_11__82155866_82161891'], 'ENSG00000137500': ['L1HS_intron_11__83264470_83264696'], 'ENSG00000150672': ['L1HS_intron_11__84365813_84367203', 'L1HS_intron_11__85324759_85330821', 'L1HS_intron_11__85500260_85500554'], 'ENSG00000261645': ['L1HS_intron_11__90400068_90406098'], 'ENSG00000280085': ['L1HS_intergenic_11__90966272_90972302'], 'ENSG00000165325': ['L1HS_intron_11__93420987_93427031'], 'ENSG00000149972': ['L1HS_intron_11__99602688_99608113'], 'ENSG00000178105': ['L1HS_intron_11__108684193_108685172', 'L1HS_intron_11__108685167_108685556'], 'ENSG00000256972': ['L1HS_intron_11__115338908_115339208', 'L1HS_intron_11__115339209_115339472'], 'ENSG00000182985': ['L1HS_intron_11__115338908_115339208', 'L1HS_intron_11__115339209_115339472'], 'ENSG00000111218': ['L1HS_intron_12__3499196_3500000', 'L1HS_intron_12__3500001_3505228'], 'ENSG00000052126': ['L1HS_intron_12__19218945_19219000'], 'ENSG00000123104': ['L1HS_intron_12__26768225_26768423'], 'ENSG00000139117': ['L1HS_intron_12__38799647_38805673'], 'ENSG00000151229': ['L1HS_intron_12__39800292_39801257'], 'ENSG00000180116': ['L1HS_intron_12__39800292_39801257'], 'ENSG00000257239': ['L1HS_intron_12__41844329_41845075'], 'ENSG00000173157': ['L1HS_intron_12__43532556_43533335', 'L1HS_intron_12__43533336_43534348'], 'ENSG00000139173': ['L1HS_intron_12__44108221_44114234'], 'ENSG00000184613': ['L1HS_intron_12__44552985_44553282', 'L1HS_intron_12__44864838_44865334', 'L1HS_intron_12__44865335_44865824'], 'ENSG00000198673': ['L1HS_intron_12__61901260_61901437'], 'ENSG00000248995': ['L1HS_intron_12__64972506_64972565'], 'ENSG00000255693': ['L1HS_intron_12__64972506_64972565'], 'ENSG00000174099': ['L1HS_intron_12__65350358_65353035'], 'ENSG00000127328': ['L1HS_intron_12__69773411_69779441'], 'ENSG00000067715': ['L1HS_intron_12__79177050_79178091'], 'ENSG00000139220': ['L1HS_intron_12__81706588_81706711'], 'ENSG00000182050': ['L1HS_intron_12__86239839_86240023'], 'ENSG00000257648': ['L1HS_intergenic_12__87747543_87749422', 'L1HS_intergenic_12__87749421_87750131'], 'ENSG00000258205': ['L1HS_intergenic_12__87747543_87749422'], 'ENSG00000011465': ['L1HS_intron_12__91164100_91164376'], 'ENSG00000257501': ['L1HS_intron_12__97717934_97718957', 'L1HS_intron_12__97721823_97723838'], 'ENSG00000206899': ['L1HS_intron_12__97721823_97723838'], 'ENSG00000258312': ['L1HS_intron_12__98278357_98279169'], 'ENSG00000017427': ['L1HS_intron_12__102448090_102448702'], 'ENSG00000257398': ['L1HS_intron_12__107845059_107845149'], 'ENSG00000166111': ['L1HS_intron_12__108996948_109000000'], 'ENSG00000139364': ['L1HS_intron_12__125433682_125433812'], 'ENSG00000132958': ['L1HS_intron_13__19496787_19500000'], 'ENSG00000132938': ['L1HS_intron_13__29413317_29414490'], 'ENSG00000187676': ['L1HS_intron_13__31302315_31308370'], 'ENSG00000225179': ['L1HS_intron_13__34480263_34486294'], 'ENSG00000271850': ['L1HS_intron_13__34480263_34486294'], 'ENSG00000172915': ['L1HS_intron_13__35110057_35110214'], 'ENSG00000139687': ['L1HS_intron_13__48465556_48471566'], 'ENSG00000226240': ['L1HS_intron_13__74426327_74432354'], 'ENSG00000231019': ['L1HS_intron_13__88198953_88199681'], 'ENSG00000179399': ['L1HS_intron_13__92203157_92203644', 'L1HS_intron_13__92685562_92691592'], 'ENSG00000183098': ['L1HS_intron_13__93538929_93539064', 'L1HS_intron_13__93879053_93879279'], 'ENSG00000176294': ['L1HS_intergenic_14__19720017_19721720', 'L1HS_intergenic_14__19721719_19722421', 'L1HS_intergenic_14__19737040_19737380', 'L1HS_intergenic_14__19737381_19737616'], 'ENSG00000129535': ['L1HS_intron_14__24112370_24113390'], 'ENSG00000100897': ['L1HS_intron_14__24112370_24113390'], 'ENSG00000257869': ['L1HS_intron_14__28402217_28402953'], 'ENSG00000092108': ['L1HS_intron_14__30684810_30690837'], 'ENSG00000151413': ['L1HS_intron_14__31793857_31798132'], 'ENSG00000150527': ['L1HS_intron_14__39296638_39296763'], 'ENSG00000100505': ['L1HS_intron_14__51053597_51053813'], 'ENSG00000258535': ['L1HS_intron_14__51794602_51800632'], 'ENSG00000186469': ['L1HS_intron_14__51937626_51937740'], 'ENSG00000087303': ['L1HS_intron_14__52065462_52066058'], 'ENSG00000139974': ['L1HS_intron_14__61055117_61061148'], 'ENSG00000258995': ['L1HS_intergenic_14__63116707_63122735'], 'ENSG00000259093': ['L1HS_intergenic_14__63116707_63122735'], 'ENSG00000171723': ['L1HS_intron_14__66763240_66763652'], 'ENSG00000257759': ['L1HS_intergenic_14__70547291_70553322'], 'ENSG00000021645': ['L1HS_intron_14__79308934_79314061', 'L1HS_intron_14__79314061_79314943'], 'ENSG00000271656': ['L1HS_intron_14__81002840_81003083'], 'ENSG00000165409': ['L1HS_intron_14__81002840_81003083'], 'ENSG00000264607': ['L1HS_intron_14__95138695_95138980'], 'ENSG00000100697': ['L1HS_intron_14__95138695_95138980'], 'ENSG00000258913': ['L1HS_intron_14__104268623_104268855'], 'ENSG00000182256': ['L1HS_intron_15__27216779_27217191'], 'ENSG00000034053': ['L1HS_intergenic_15__29119272_29119609'], 'ENSG00000104059': ['L1HS_intergenic_15__29119272_29119609'], 'ENSG00000259255': ['L1HS_intron_15__46744270_46745017'], 'ENSG00000259500': ['L1HS_intergenic_15__48970222_48971705', 'L1HS_exon_15__48971861_48971956'], 'ENSG00000259678': ['L1HS_intron_15__51417217_51423246'], 'ENSG00000104093': ['L1HS_intron_15__51583107_51585418'], 'ENSG00000069869': ['L1HS_intron_15__55986935_55988017', 'L1HS_intron_15__55988018_55988485'], 'ENSG00000255529': ['L1HS_intergenic_15__57719836_57720279'], 'ENSG00000261219': ['L1HS_intergenic_15__57719836_57720279'], 'ENSG00000129003': ['L1HS_intron_15__62015481_62015945'], 'ENSG00000169032': ['L1HS_intron_15__66449877_66452300'], 'ENSG00000137831': ['L1HS_intron_15__70729654_70729750', 'L1HS_intron_15__70729745_70735160'], 'ENSG00000183324': ['L1HS_intron_15__73531973_73531983', 'L1HS_intron_15__73532644_73536205'], 'ENSG00000188869': ['L1HS_intron_15__81364451_81364691'], 'ENSG00000259462': ['L1HS_intron_15__82690254_82690631', 'L1HS_intron_15__82690980_82691376'], 'ENSG00000103723': ['L1HS_intron_15__82690254_82690631', 'L1HS_intron_15__82690980_82691376'], 'ENSG00000259707': ['L1HS_intron_15__82690980_82691376'], 'ENSG00000103942': ['L1HS_intron_15__82882882_82888919'], 'ENSG00000140600': ['L1HS_intron_15__83450805_83456834'], 'ENSG00000259560': ['L1HS_intron_15__87509892_87515920'], 'ENSG00000157106': ['L1HS_intron_16__18821267_18827058'], 'ENSG00000102893': ['L1HS_intron_16__47645083_47645703', 'L1HS_intron_16__47645703_47646543'], 'ENSG00000261049': ['L1HS_intron_16__54042097_54048145'], 'ENSG00000140718': ['L1HS_intron_16__54042097_54048145'], 'ENSG00000245768': ['L1HS_intron_16__58839205_58839714', 'L1HS_intron_16__58993814_58994365'], 'ENSG00000260115': ['L1HS_intron_16__61918304_61919817'], 'ENSG00000150394': ['L1HS_intron_16__61918304_61919817'], 'ENSG00000260084': ['L1HS_intron_16__68583449_68589505'], 'ENSG00000186153': ['L1HS_intron_16__79033380_79033455'], 'ENSG00000166446': ['L1HS_intron_16__80727090_80730717'], 'ENSG00000140945': ['L1HS_intron_16__83637253_83643296'], 'ENSG00000064270': ['L1HS_intron_16__84455766_84456371', 'L1HS_intron_16__84456371_84458508'], 'ENSG00000261286': ['L1HS_intron_16__84456371_84458508'], 'ENSG00000141252': ['L1HS_intron_17__589719_592965'], 'ENSG00000166596': ['L1HS_intron_17__9615986_9622015'], 'ENSG00000196712': ['L1HS_intron_17__31332578_31332922'], 'ENSG00000108684': ['L1HS_intron_17__33865620_33865783'], 'ENSG00000153930': ['L1HS_intron_17__56190011_56192064'], 'ENSG00000154229': ['L1HS_intron_17__66596580_66602595'], 'ENSG00000154258': ['L1HS_intron_17__69000001_69005148'], 'ENSG00000231749': ['L1HS_intron_17__69000001_69005148'], 'ENSG00000158270': ['L1HS_intron_18__369450_369597'], 'ENSG00000088756': ['L1HS_intron_18__6831472_6831576'], 'ENSG00000141447': ['L1HS_intron_18__24323549_24324057'], 'ENSG00000150477': ['L1HS_intron_18__36986323_36987526', 'L1HS_intron_18__37074405_37074884'], 'ENSG00000267413': ['L1HS_intron_18__39860029_39861777'], 'ENSG00000167306': ['L1HS_intron_18__50042985_50043270'], 'ENSG00000154839': ['L1HS_intron_18__50384650_50384869'], 'ENSG00000091157': ['L1HS_intron_18__56812954_56813192'], 'ENSG00000101542': ['L1HS_intron_18__61512675_61515526'], 'ENSG00000197563': ['L1HS_intron_18__62096512_62097020', 'L1HS_intron_18__62097021_62097586'], 'ENSG00000081913': ['L1HS_intron_18__62906293_62912314'], 'ENSG00000119537': ['L1HS_intron_18__63363221_63363642'], 'ENSG00000081138': ['L1HS_intron_18__65779303_65780809'], 'ENSG00000264040': ['L1HS_intron_18__67603634_67605600'], 'ENSG00000265533': ['L1HS_intron_18__67603634_67605600'], 'ENSG00000215421': ['L1HS_intron_18__74998533_74999361'], 'ENSG00000266460': ['L1HS_intron_18__75846852_75852883'], 'ENSG00000166377': ['L1HS_intron_18__79114908_79114974', 'L1HS_exon_18__79114974_79116935'], 'ENSG00000267655': ['L1HS_exon_18__79114974_79116935'], 'ENSG00000252780': ['L1HS_intergenic_19__31653398_31654536'], 'ENSG00000124467': ['L1HS_intron_19__42808996_42811014'], 'ENSG00000170848': ['L1HS_intron_19__42808996_42811014', 'L1HS_intron_19__43051126_43052617'], 'ENSG00000221878': ['L1HS_intron_19__43051126_43052617'], 'ENSG00000230666': ['L1HS_intron_19__44546319_44546890'], 'ENSG00000104974': ['L1HS_intron_19__54580201_54581635', 'L1HS_intron_19__54581626_54581853'], 'ENSG00000239998': ['L1HS_intron_19__54580201_54581635', 'L1HS_intron_19__54581626_54581853'], 'ENSG00000104972': ['L1HS_intron_19__54580201_54581635', 'L1HS_intron_19__54581626_54581853'], 'ENSG00000271565': ['L1HS_intergenic_20__6218868_6218971'], 'ENSG00000232271': ['L1HS_intron_20__7116195_7122199'], 'ENSG00000101349': ['L1HS_intron_20__9716121_9716156'], 'ENSG00000185052': ['L1HS_intron_20__19419828_19420546'], 'ENSG00000229976': ['L1HS_intron_20__39801496_39802657'], 'ENSG00000182463': ['L1HS_intron_20__53163432_53163597', 'L1HS_intron_20__53269703_53269810'], 'ENSG00000271774': ['L1HS_intron_20__53269703_53269810'], 'ENSG00000215386': ['L1HS_intron_21__16544385_16544918'], 'ENSG00000232855': ['L1HS_intron_21__28665421_28665560'], 'ENSG00000100154': ['L1HS_intron_22__28611508_28611847', 'L1HS_intron_22__28663284_28669315'], 'ENSG00000176177': ['L1HS_intron_22__39841368_39842529'], 'ENSG00000275194': ['L1HS_intron_X__11220281_11221099'], 'ENSG00000047648': ['L1HS_intron_X__11220281_11221099'], 'ENSG00000169891': ['L1HS_intron_X__17055647_17056001'], 'ENSG00000233067': ['L1HS_intron_X__23238517_23244575'], 'ENSG00000198947': ['L1HS_intron_X__31530648_31531725', 'L1HS_intron_X__31531727_31535639'], 'ENSG00000229563': ['L1HS_intron_X__45589676_45590174'], 'ENSG00000165583': ['L1HS_intergenic_X__48232337_48233200', 'L1HS_intergenic_X__48233199_48233550'], 'ENSG00000171365': ['L1HS_intron_X__49966590_49967497', 'L1HS_intron_X__49967496_49968964', 'L1HS_intron_X__50019457_50025505'], 'ENSG00000184083': ['L1HS_intron_X__54118686_54124744'], 'ENSG00000232765': ['L1HS_intron_X__55287862_55288081'], 'ENSG00000158639': ['L1HS_intron_X__55287862_55288081'], 'ENSG00000089472': ['L1HS_intron_X__66180697_66186728'], 'ENSG00000079482': ['L1HS_exon_X__68042555_68043384'], 'ENSG00000158813': ['L1HS_intron_X__69982640_69983880'], 'ENSG00000126733': ['L1HS_intron_X__86350179_86354023', 'L1HS_intron_X__86354017_86354832', 'L1HS_intron_X__86445226_86445521', 'L1HS_intron_X__86446294_86449424', 'L1HS_intron_X__86557358_86560507'], 'ENSG00000102290': ['L1HS_intron_X__92254242_92256469'], 'ENSG00000196440': ['L1HS_intergenic_X__101471545_101475011'], 'ENSG00000126952': ['L1HS_intergenic_X__101858399_101858683'], 'ENSG00000077279': ['L1HS_intron_X__111314880_111315175', 'L1HS_intron_X__111315172_111316092'], 'ENSG00000241743': ['L1HS_intron_X__113687126_113690039'], 'ENSG00000147246': ['L1HS_intron_X__114742729_114743314'], 'ENSG00000003096': ['L1HS_intron_X__117963487_117963832', 'L1HS_intron_X__117963833_117964205'], 'ENSG00000266420': ['L1HS_intron_X__119435469_119441493'], 'ENSG00000077713': ['L1HS_intron_X__119435469_119441493'], 'ENSG00000228659': ['L1HS_intron_X__131003044_131005315', 'L1HS_intron_X__131005307_131006504', 'L1HS_intron_X__131006541_131006557'], 'ENSG00000129682': ['L1HS_intron_X__138677189_138678377'], 'ENSG00000207041': ['L1HS_intergenic_X__141117286_141118027'], 'ENSG00000227303': ['L1HS_intron_X__143351969_143354311'], 'ENSG00000155966': ['L1HS_intron_X__148971786_148973169'], 'ENSG00000011677': ['L1HS_intron_X__152349287_152350533', 'L1HS_intron_X__152359921_152360445', 'L1HS_intron_X__152360446_152360710', 'L1HS_intron_X__152390127_152390222'], 'ENSG00000185973': ['L1HS_intron_X__155516017_155522048'], 'ENSG00000224533': ['L1HS_intron_X__155516017_155522048'], 'ENSG00000099715': ['L1HS_intron_Y__5140846_5141535', 'L1HS_intron_Y__5141536_5142258', 'L1HS_intron_Y__5175374_5176463', 'L1HS_intron_Y__5606145_5612199'], 'ENSG00000176728': ['L1HS_intron_Y__19034632_19038436'], 'ENSG00000229236': ['L1HS_intron_Y__20473018_20475821', 'L1HS_intron_Y__20475819_20476508'], 'ENSG00000231423': ['L1HS_intron_Y__23956872_23959834'], 'ENSG00000223856': ['L1HS_intron_Y__25710292_25713238', 'L1HS_intron_Y__25713299_25713316'], 'ENSG00000278955': ['L1HS_intron_21__6870752_6871323,21__13735802_13736373']}\n"
     ]
    }
   ],
   "source": [
    "LocalGeneTEPairs = {}\n",
    "\n",
    "for pair in intersectdf.iterrows():\n",
    "    TEname = pair[1][3]\n",
    "    GENEid = data.gene_ids_of_gene_name(pair[1][7])[0]\n",
    "    if GENEid in LocalGeneTEPairs.keys():\n",
    "        LocalGeneTEPairs[GENEid].append(TEname)\n",
    "    else:\n",
    "        LocalGeneTEPairs[GENEid] = [TEname]\n",
    "\n",
    "print(LocalGeneTEPairs)"
   ],
   "metadata": {
    "collapsed": false,
    "pycharm": {
     "name": "#%%\n"
    }
   }
  },
  {
   "cell_type": "code",
   "execution_count": 121,
   "outputs": [
    {
     "name": "stdout",
     "output_type": "stream",
     "text": [
      "431\n",
      "40\n",
      "431\n",
      "40\n"
     ]
    }
   ],
   "source": [
    "import scipy.stats as stats\n",
    "for gene in LocalGeneTEPairs.keys():\n",
    "    for te in LocalGeneTEPairs[gene]:\n",
    "        print(len(Gene.loc[gene,:]))\n",
    "        print(len(L1HS.loc[te, :]))\n",
    "    break\n",
    "        #print(stats.pearsonr(Gene.loc[gene,:], L1HS.loc[te, :]))"
   ],
   "metadata": {
    "collapsed": false,
    "pycharm": {
     "name": "#%%\n"
    }
   }
  },
  {
   "cell_type": "code",
   "execution_count": null,
   "outputs": [],
   "source": [],
   "metadata": {
    "collapsed": false,
    "pycharm": {
     "name": "#%%\n"
    }
   }
  }
 ],
 "metadata": {
  "kernelspec": {
   "display_name": "Python 3",
   "language": "python",
   "name": "python3"
  },
  "language_info": {
   "codemirror_mode": {
    "name": "ipython",
    "version": 2
   },
   "file_extension": ".py",
   "mimetype": "text/x-python",
   "name": "python",
   "nbconvert_exporter": "python",
   "pygments_lexer": "ipython2",
   "version": "2.7.6"
  }
 },
 "nbformat": 4,
 "nbformat_minor": 0
}