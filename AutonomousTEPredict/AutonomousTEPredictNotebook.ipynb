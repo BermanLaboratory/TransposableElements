{
 "cells": [
  {
   "cell_type": "markdown",
   "source": [
    "# Preprocessing for Autonomous Transposable Element Prediction\n",
    "\n",
    "Both Genetic and Epigenetic factors greatly influence the expression of transposable elements. As a result, performing differential expression analysis on transposable elements in cases with highly varient genetic landscapes would provide incredibly noisy (highly false positive) results. This is because TEs found located near expressed genes (exonic or intronic) are likely to be equivalently expressed. As such, if there are differences in the expression of these genes between samples, TEs expression is likely to be differentially expressed in a similar manner. To combat this issue, we can simply eliminate transposable elements that have expression that is highly linearly correlated with local gene expression. In doing so, we eliminate the major confounding variable (local genetic expression) when evaluating resultant functional differences between transposable element expression profiles. the process isolates what we call 'autonomous' transposable element expression.\n",
    "\n",
    "Assumption\n",
    "1. Transposable elements that are linearly correlated with the expression of local genes (defined in 'Setting Locality Metric' below)  are simply 'passenger' transcripts that have limited functionality is comparision to the associated genetic expression\n",
    "2. Collinear expression of local TE(s) and Gene(s) is not coincidental\n",
    "\n",
    "## Input\n",
    "\n",
    "TE: Tranposable element per loci expression matrix (in TPM) with samples as columns and individual TE expression as rows.\n",
    "    ** As shown below **\n",
    "    Column Names: Sample ID\n",
    "    Row Names: TE name and Genomic Location of form 'TEname_RelativeGenomicLocation_Chromosome__Start_Stop'\n",
    "        RelativeGenomicLocation: (intron/intergenic/exonic)\n",
    "\n",
    "Gene: Gene expression matrix (in TPM) with samples as columns and individual gene expression as rows.\n",
    "    Column Names: SampleID\n",
    "    Row Names: ENSEMBL ID"
   ],
   "metadata": {
    "collapsed": false,
    "pycharm": {
     "name": "#%% md\n"
    }
   }
  },
  {
   "cell_type": "markdown",
   "source": [
    "## Import 'Input' Dataframes\n",
    "\n",
    "In this example I am only evaluating a specific subclass of Tranposable Element's the LINE Elements\n",
    "- note I am index the pandas dataframe with the names of the genes and elements.\n",
    "    - elements must have the naming convention: 'name_relativegenomiclocation_chromosome__start_end'\n",
    "        - example: 'L3_intron_1__19972_20405'"
   ],
   "metadata": {
    "collapsed": false,
    "pycharm": {
     "name": "#%% md\n"
    }
   }
  },
  {
   "cell_type": "code",
   "execution_count": 10,
   "outputs": [
    {
     "ename": "KeyboardInterrupt",
     "evalue": "",
     "output_type": "error",
     "traceback": [
      "\u001B[0;31m---------------------------------------------------------------------------\u001B[0m",
      "\u001B[0;31mKeyboardInterrupt\u001B[0m                         Traceback (most recent call last)",
      "Input \u001B[0;32mIn [10]\u001B[0m, in \u001B[0;36m<cell line: 4>\u001B[0;34m()\u001B[0m\n\u001B[1;32m      1\u001B[0m \u001B[38;5;28;01mimport\u001B[39;00m \u001B[38;5;21;01mpandas\u001B[39;00m \u001B[38;5;28;01mas\u001B[39;00m \u001B[38;5;21;01mpd\u001B[39;00m\n\u001B[1;32m      3\u001B[0m LINE \u001B[38;5;241m=\u001B[39m pd\u001B[38;5;241m.\u001B[39mread_csv(\u001B[38;5;124m'\u001B[39m\u001B[38;5;124m~/PycharmProjects/TransposableElements/Data/tpm_LINE.csv\u001B[39m\u001B[38;5;124m'\u001B[39m, index_col\u001B[38;5;241m=\u001B[39m\u001B[38;5;124m'\u001B[39m\u001B[38;5;124mUnnamed: 0\u001B[39m\u001B[38;5;124m'\u001B[39m)\n\u001B[0;32m----> 4\u001B[0m Gene \u001B[38;5;241m=\u001B[39m \u001B[43mpd\u001B[49m\u001B[38;5;241;43m.\u001B[39;49m\u001B[43mread_csv\u001B[49m\u001B[43m(\u001B[49m\u001B[38;5;124;43m'\u001B[39;49m\u001B[38;5;124;43m~/PycharmProjects/TransposableElements/Data/TCGAgene.csv\u001B[39;49m\u001B[38;5;124;43m'\u001B[39;49m\u001B[43m,\u001B[49m\u001B[43m \u001B[49m\u001B[43mindex_col\u001B[49m\u001B[38;5;241;43m=\u001B[39;49m\u001B[38;5;124;43m'\u001B[39;49m\u001B[38;5;124;43mGene\u001B[39;49m\u001B[38;5;124;43m'\u001B[39;49m\u001B[43m)\u001B[49m\n\u001B[1;32m      5\u001B[0m \u001B[38;5;66;03m# in my case I needed to isolate ensembl IDs\u001B[39;00m\n\u001B[1;32m      6\u001B[0m Gene\u001B[38;5;241m.\u001B[39mindex \u001B[38;5;241m=\u001B[39m [x\u001B[38;5;241m.\u001B[39msplit(\u001B[38;5;124m'\u001B[39m\u001B[38;5;124m.\u001B[39m\u001B[38;5;124m'\u001B[39m)[\u001B[38;5;241m0\u001B[39m] \u001B[38;5;28;01mfor\u001B[39;00m x \u001B[38;5;129;01min\u001B[39;00m Gene\u001B[38;5;241m.\u001B[39mindex\u001B[38;5;241m.\u001B[39mvalues\u001B[38;5;241m.\u001B[39mtolist()]\n",
      "File \u001B[0;32m~/.conda/envs/TransposableElements/lib/python3.10/site-packages/pandas/util/_decorators.py:311\u001B[0m, in \u001B[0;36mdeprecate_nonkeyword_arguments.<locals>.decorate.<locals>.wrapper\u001B[0;34m(*args, **kwargs)\u001B[0m\n\u001B[1;32m    305\u001B[0m \u001B[38;5;28;01mif\u001B[39;00m \u001B[38;5;28mlen\u001B[39m(args) \u001B[38;5;241m>\u001B[39m num_allow_args:\n\u001B[1;32m    306\u001B[0m     warnings\u001B[38;5;241m.\u001B[39mwarn(\n\u001B[1;32m    307\u001B[0m         msg\u001B[38;5;241m.\u001B[39mformat(arguments\u001B[38;5;241m=\u001B[39marguments),\n\u001B[1;32m    308\u001B[0m         \u001B[38;5;167;01mFutureWarning\u001B[39;00m,\n\u001B[1;32m    309\u001B[0m         stacklevel\u001B[38;5;241m=\u001B[39mstacklevel,\n\u001B[1;32m    310\u001B[0m     )\n\u001B[0;32m--> 311\u001B[0m \u001B[38;5;28;01mreturn\u001B[39;00m \u001B[43mfunc\u001B[49m\u001B[43m(\u001B[49m\u001B[38;5;241;43m*\u001B[39;49m\u001B[43margs\u001B[49m\u001B[43m,\u001B[49m\u001B[43m \u001B[49m\u001B[38;5;241;43m*\u001B[39;49m\u001B[38;5;241;43m*\u001B[39;49m\u001B[43mkwargs\u001B[49m\u001B[43m)\u001B[49m\n",
      "File \u001B[0;32m~/.conda/envs/TransposableElements/lib/python3.10/site-packages/pandas/io/parsers/readers.py:678\u001B[0m, in \u001B[0;36mread_csv\u001B[0;34m(filepath_or_buffer, sep, delimiter, header, names, index_col, usecols, squeeze, prefix, mangle_dupe_cols, dtype, engine, converters, true_values, false_values, skipinitialspace, skiprows, skipfooter, nrows, na_values, keep_default_na, na_filter, verbose, skip_blank_lines, parse_dates, infer_datetime_format, keep_date_col, date_parser, dayfirst, cache_dates, iterator, chunksize, compression, thousands, decimal, lineterminator, quotechar, quoting, doublequote, escapechar, comment, encoding, encoding_errors, dialect, error_bad_lines, warn_bad_lines, on_bad_lines, delim_whitespace, low_memory, memory_map, float_precision, storage_options)\u001B[0m\n\u001B[1;32m    663\u001B[0m kwds_defaults \u001B[38;5;241m=\u001B[39m _refine_defaults_read(\n\u001B[1;32m    664\u001B[0m     dialect,\n\u001B[1;32m    665\u001B[0m     delimiter,\n\u001B[0;32m   (...)\u001B[0m\n\u001B[1;32m    674\u001B[0m     defaults\u001B[38;5;241m=\u001B[39m{\u001B[38;5;124m\"\u001B[39m\u001B[38;5;124mdelimiter\u001B[39m\u001B[38;5;124m\"\u001B[39m: \u001B[38;5;124m\"\u001B[39m\u001B[38;5;124m,\u001B[39m\u001B[38;5;124m\"\u001B[39m},\n\u001B[1;32m    675\u001B[0m )\n\u001B[1;32m    676\u001B[0m kwds\u001B[38;5;241m.\u001B[39mupdate(kwds_defaults)\n\u001B[0;32m--> 678\u001B[0m \u001B[38;5;28;01mreturn\u001B[39;00m \u001B[43m_read\u001B[49m\u001B[43m(\u001B[49m\u001B[43mfilepath_or_buffer\u001B[49m\u001B[43m,\u001B[49m\u001B[43m \u001B[49m\u001B[43mkwds\u001B[49m\u001B[43m)\u001B[49m\n",
      "File \u001B[0;32m~/.conda/envs/TransposableElements/lib/python3.10/site-packages/pandas/io/parsers/readers.py:581\u001B[0m, in \u001B[0;36m_read\u001B[0;34m(filepath_or_buffer, kwds)\u001B[0m\n\u001B[1;32m    578\u001B[0m     \u001B[38;5;28;01mreturn\u001B[39;00m parser\n\u001B[1;32m    580\u001B[0m \u001B[38;5;28;01mwith\u001B[39;00m parser:\n\u001B[0;32m--> 581\u001B[0m     \u001B[38;5;28;01mreturn\u001B[39;00m \u001B[43mparser\u001B[49m\u001B[38;5;241;43m.\u001B[39;49m\u001B[43mread\u001B[49m\u001B[43m(\u001B[49m\u001B[43mnrows\u001B[49m\u001B[43m)\u001B[49m\n",
      "File \u001B[0;32m~/.conda/envs/TransposableElements/lib/python3.10/site-packages/pandas/io/parsers/readers.py:1253\u001B[0m, in \u001B[0;36mTextFileReader.read\u001B[0;34m(self, nrows)\u001B[0m\n\u001B[1;32m   1251\u001B[0m nrows \u001B[38;5;241m=\u001B[39m validate_integer(\u001B[38;5;124m\"\u001B[39m\u001B[38;5;124mnrows\u001B[39m\u001B[38;5;124m\"\u001B[39m, nrows)\n\u001B[1;32m   1252\u001B[0m \u001B[38;5;28;01mtry\u001B[39;00m:\n\u001B[0;32m-> 1253\u001B[0m     index, columns, col_dict \u001B[38;5;241m=\u001B[39m \u001B[38;5;28;43mself\u001B[39;49m\u001B[38;5;241;43m.\u001B[39;49m\u001B[43m_engine\u001B[49m\u001B[38;5;241;43m.\u001B[39;49m\u001B[43mread\u001B[49m\u001B[43m(\u001B[49m\u001B[43mnrows\u001B[49m\u001B[43m)\u001B[49m\n\u001B[1;32m   1254\u001B[0m \u001B[38;5;28;01mexcept\u001B[39;00m \u001B[38;5;167;01mException\u001B[39;00m:\n\u001B[1;32m   1255\u001B[0m     \u001B[38;5;28mself\u001B[39m\u001B[38;5;241m.\u001B[39mclose()\n",
      "File \u001B[0;32m~/.conda/envs/TransposableElements/lib/python3.10/site-packages/pandas/io/parsers/c_parser_wrapper.py:225\u001B[0m, in \u001B[0;36mCParserWrapper.read\u001B[0;34m(self, nrows)\u001B[0m\n\u001B[1;32m    223\u001B[0m \u001B[38;5;28;01mtry\u001B[39;00m:\n\u001B[1;32m    224\u001B[0m     \u001B[38;5;28;01mif\u001B[39;00m \u001B[38;5;28mself\u001B[39m\u001B[38;5;241m.\u001B[39mlow_memory:\n\u001B[0;32m--> 225\u001B[0m         chunks \u001B[38;5;241m=\u001B[39m \u001B[38;5;28;43mself\u001B[39;49m\u001B[38;5;241;43m.\u001B[39;49m\u001B[43m_reader\u001B[49m\u001B[38;5;241;43m.\u001B[39;49m\u001B[43mread_low_memory\u001B[49m\u001B[43m(\u001B[49m\u001B[43mnrows\u001B[49m\u001B[43m)\u001B[49m\n\u001B[1;32m    226\u001B[0m         \u001B[38;5;66;03m# destructive to chunks\u001B[39;00m\n\u001B[1;32m    227\u001B[0m         data \u001B[38;5;241m=\u001B[39m _concatenate_chunks(chunks)\n",
      "File \u001B[0;32m~/.conda/envs/TransposableElements/lib/python3.10/site-packages/pandas/_libs/parsers.pyx:805\u001B[0m, in \u001B[0;36mpandas._libs.parsers.TextReader.read_low_memory\u001B[0;34m()\u001B[0m\n",
      "File \u001B[0;32m~/.conda/envs/TransposableElements/lib/python3.10/site-packages/pandas/_libs/parsers.pyx:883\u001B[0m, in \u001B[0;36mpandas._libs.parsers.TextReader._read_rows\u001B[0;34m()\u001B[0m\n",
      "File \u001B[0;32m~/.conda/envs/TransposableElements/lib/python3.10/site-packages/pandas/_libs/parsers.pyx:1026\u001B[0m, in \u001B[0;36mpandas._libs.parsers.TextReader._convert_column_data\u001B[0;34m()\u001B[0m\n",
      "File \u001B[0;32m~/.conda/envs/TransposableElements/lib/python3.10/site-packages/pandas/_libs/parsers.pyx:1072\u001B[0m, in \u001B[0;36mpandas._libs.parsers.TextReader._convert_tokens\u001B[0;34m()\u001B[0m\n",
      "File \u001B[0;32m~/.conda/envs/TransposableElements/lib/python3.10/site-packages/pandas/_libs/parsers.pyx:1147\u001B[0m, in \u001B[0;36mpandas._libs.parsers.TextReader._convert_with_dtype\u001B[0;34m()\u001B[0m\n",
      "File \u001B[0;32m~/.conda/envs/TransposableElements/lib/python3.10/site-packages/pandas/core/dtypes/common.py:1429\u001B[0m, in \u001B[0;36mis_extension_array_dtype\u001B[0;34m(arr_or_dtype)\u001B[0m\n\u001B[1;32m   1420\u001B[0m     \u001B[38;5;66;03m# Note: if other EA dtypes are ever held in HybridBlock, exclude those\u001B[39;00m\n\u001B[1;32m   1421\u001B[0m     \u001B[38;5;66;03m#  here too.\u001B[39;00m\n\u001B[1;32m   1422\u001B[0m     \u001B[38;5;66;03m# NB: need to check DatetimeTZDtype and not is_datetime64tz_dtype\u001B[39;00m\n\u001B[1;32m   1423\u001B[0m     \u001B[38;5;66;03m#  to exclude ArrowTimestampUSDtype\u001B[39;00m\n\u001B[1;32m   1424\u001B[0m     \u001B[38;5;28;01mreturn\u001B[39;00m \u001B[38;5;28misinstance\u001B[39m(dtype, ExtensionDtype) \u001B[38;5;129;01mand\u001B[39;00m \u001B[38;5;129;01mnot\u001B[39;00m \u001B[38;5;28misinstance\u001B[39m(\n\u001B[1;32m   1425\u001B[0m         dtype, (DatetimeTZDtype, PeriodDtype)\n\u001B[1;32m   1426\u001B[0m     )\n\u001B[0;32m-> 1429\u001B[0m \u001B[38;5;28;01mdef\u001B[39;00m \u001B[38;5;21mis_extension_array_dtype\u001B[39m(arr_or_dtype) \u001B[38;5;241m-\u001B[39m\u001B[38;5;241m>\u001B[39m \u001B[38;5;28mbool\u001B[39m:\n\u001B[1;32m   1430\u001B[0m     \u001B[38;5;124;03m\"\"\"\u001B[39;00m\n\u001B[1;32m   1431\u001B[0m \u001B[38;5;124;03m    Check if an object is a pandas extension array type.\u001B[39;00m\n\u001B[1;32m   1432\u001B[0m \n\u001B[0;32m   (...)\u001B[0m\n\u001B[1;32m   1472\u001B[0m \u001B[38;5;124;03m    False\u001B[39;00m\n\u001B[1;32m   1473\u001B[0m \u001B[38;5;124;03m    \"\"\"\u001B[39;00m\n\u001B[1;32m   1474\u001B[0m     dtype \u001B[38;5;241m=\u001B[39m \u001B[38;5;28mgetattr\u001B[39m(arr_or_dtype, \u001B[38;5;124m\"\u001B[39m\u001B[38;5;124mdtype\u001B[39m\u001B[38;5;124m\"\u001B[39m, arr_or_dtype)\n",
      "\u001B[0;31mKeyboardInterrupt\u001B[0m: "
     ]
    }
   ],
   "source": [
    "import pandas as pd\n",
    "\n",
    "LINE = pd.read_csv('~/PycharmProjects/TransposableElements/Data/tpm_LINE.csv', index_col='Unnamed: 0')\n",
    "Gene = pd.read_csv('~/PycharmProjects/TransposableElements/Data/TCGAgene.csv', index_col='Gene')\n",
    "# in my case I needed to isolate ensembl IDs\n",
    "Gene.index = [x.split('.')[0] for x in Gene.index.values.tolist()]\n",
    "print(Gene.head())\n",
    "print(LINE.head())"
   ],
   "metadata": {
    "collapsed": false,
    "pycharm": {
     "name": "#%%\n"
    }
   }
  },
  {
   "cell_type": "markdown",
   "source": [
    "## Setting a locality metric\n",
    "\n",
    "According to Ribeiro et, al. (https://www.nature.com/articles/s42003-022-03831-w) Genes are considered 'immediately local' if they are <100Kb from their neighbour and 'nearby' if they are <1Mb from their neighbour. However, a specific value for such a concept is very difficult to define. For this analyses I will use the 'immediately local' value."
   ],
   "metadata": {
    "collapsed": false,
    "pycharm": {
     "name": "#%% md\n"
    }
   }
  },
  {
   "cell_type": "code",
   "execution_count": null,
   "outputs": [],
   "source": [
    "locality = 1000"
   ],
   "metadata": {
    "collapsed": false,
    "pycharm": {
     "name": "#%%\n"
    }
   }
  },
  {
   "cell_type": "markdown",
   "source": [
    "1. prepare the TE dataframe for BEDTOOLS alignment\n",
    "* to identify 'immediately local' genes we also need to add 'locality margins' to our TE locations by subtracting out locality metric from the 'start' and adding the locality metric to 'end' as shown below\n",
    "\n",
    "format:\n",
    "    Chr[Z] start[- locality] end[+ locality]\n",
    "    Chr[Z] start[- locality] end[+ locality]\n",
    "    Chr[Z] start[- locality] end[+ locality]\n"
   ],
   "metadata": {
    "collapsed": false,
    "pycharm": {
     "name": "#%% md\n"
    }
   }
  },
  {
   "cell_type": "code",
   "execution_count": null,
   "outputs": [],
   "source": [
    "elementLocations = []\n",
    "\n",
    "for i, element in enumerate(LINE.index.values.tolist()):\n",
    "    if '_' in element:\n",
    "        components = element.split(',')[0].split('_')\n",
    "        if len(components) < 6:\n",
    "            continue\n",
    "        else:\n",
    "            chromosome = 'chr' + str(components[2])\n",
    "            start = components[4]\n",
    "            end = components[5]\n",
    "            if start == '' or end == '':\n",
    "                continue\n",
    "            else:\n",
    "                elementLocation = [chromosome, int(start) - locality, int(end) + locality,element]\n",
    "                elementLocations.append(elementLocation)\n",
    "    else:\n",
    "        print('please review elements string format')"
   ],
   "metadata": {
    "collapsed": false,
    "pycharm": {
     "name": "#%%\n"
    }
   }
  },
  {
   "cell_type": "markdown",
   "source": [
    "I will also need to prepare a bed file for my reference genes\n",
    "\n",
    "to do so I first need to extract genomic locations of these genes based on their ENSEMBL ids\n",
    "1. Download the appropriate reference genome used for the alignment of your samples in my case this is GRCh38. to do so you simply run: 'pyensembl install --release [genome number] --species homo_sapiens' in your terminal window (GRCh38 is 77)\n",
    "2. Extract genomic location of gene (chr, start, stop, gene name)"
   ],
   "metadata": {
    "collapsed": false,
    "pycharm": {
     "name": "#%% md\n"
    }
   }
  },
  {
   "cell_type": "code",
   "execution_count": null,
   "outputs": [],
   "source": [
    "import pyensembl\n",
    "\n",
    "data = pyensembl.EnsemblRelease(77)\n",
    "\n",
    "geneLocations = []\n",
    "try:\n",
    "    for i, ensembl in enumerate(Gene.index.values.tolist()):\n",
    "        chromosome = 'chr' + str(data.gene_by_id(ensembl).contig)\n",
    "        start = str(data.gene_by_id(ensembl).start)\n",
    "        end = str(data.gene_by_id(ensembl).end)\n",
    "        gene = str(data.gene_by_id(ensembl).gene_name)\n",
    "        geneLocation = [chromosome, int(start), int(end), gene]\n",
    "        geneLocations.append(geneLocation)\n",
    "except ValueError:\n",
    "    pass"
   ],
   "metadata": {
    "collapsed": false,
    "pycharm": {
     "name": "#%%\n"
    }
   }
  },
  {
   "cell_type": "markdown",
   "source": [
    "# perform intersection"
   ],
   "metadata": {
    "collapsed": false,
    "pycharm": {
     "name": "#%% md\n"
    }
   }
  },
  {
   "cell_type": "code",
   "execution_count": null,
   "outputs": [],
   "source": [
    "import pybedtools\n",
    "\n",
    "TE = pybedtools.BedTool(elementLocations)\n",
    "GENE = pybedtools.BedTool(geneLocations)\n",
    "\n",
    "intersect = TE.intersect(GENE, wo=True)\n",
    "intersectdf = pd.read_table(intersect.fn, names= ['TEchr', 'TEstart', 'TEend', 'TEname', 'GENEchr', 'GENEstart', 'GENEend', 'GENEname', 'OVERLAP'])"
   ],
   "metadata": {
    "collapsed": false,
    "pycharm": {
     "name": "#%%\n"
    }
   }
  },
  {
   "cell_type": "markdown",
   "source": [
    "# correlate expression of TE and local gene\n",
    "\n",
    "1. Although not necessary for small datasets, I am going to create a dictionary 'local genes' as keys and 'local TEs' as values\n",
    "2."
   ],
   "metadata": {
    "collapsed": false,
    "pycharm": {
     "name": "#%% md\n"
    }
   }
  },
  {
   "cell_type": "code",
   "execution_count": null,
   "outputs": [],
   "source": [
    "LocalGeneTEPairs = {}\n",
    "\n",
    "for pair in intersectdf.iterrows():\n",
    "    TEname = pair[1][3]\n",
    "    GENEid = data.gene_ids_of_gene_name(pair[1][7])[0]\n",
    "    if GENEid in LocalGeneTEPairs.keys():\n",
    "        LocalGeneTEPairs[GENEid].append(TEname)\n",
    "    else:\n",
    "        LocalGeneTEPairs[GENEid] = [TEname]"
   ],
   "metadata": {
    "collapsed": false,
    "pycharm": {
     "name": "#%%\n"
    }
   }
  },
  {
   "cell_type": "code",
   "execution_count": null,
   "outputs": [],
   "source": [
    "import scipy.stats as stats\n",
    "\n",
    "tepatients = LINE.columns.values.tolist()\n",
    "Genefilter = Gene.loc[:, tepatients]\n",
    "\n",
    "CorrTEid = []\n",
    "\n",
    "for gene in LocalGeneTEPairs.keys():\n",
    "    for te in LocalGeneTEPairs[gene]:\n",
    "        try:\n",
    "            stat, pval = stats.pearsonr(Genefilter.loc[gene,:], LINE.loc[te, :])\n",
    "            if stat > 0.70 and pval < 0.05:\n",
    "                CorrTEid.append(te)\n",
    "        except:\n",
    "            KeyError\n",
    "\n",
    "CorrTEid = list(set(CorrTEid))\n",
    "CleanLINE = LINE.drop(CorrTEid)"
   ],
   "metadata": {
    "collapsed": false,
    "pycharm": {
     "name": "#%%\n"
    }
   }
  },
  {
   "cell_type": "code",
   "execution_count": null,
   "outputs": [],
   "source": [
    "print(LINE.shape)\n",
    "print(CleanLINE.shape)"
   ],
   "metadata": {
    "collapsed": false,
    "pycharm": {
     "name": "#%%\n"
    }
   }
  }
 ],
 "metadata": {
  "kernelspec": {
   "display_name": "Python 3",
   "language": "python",
   "name": "python3"
  },
  "language_info": {
   "codemirror_mode": {
    "name": "ipython",
    "version": 2
   },
   "file_extension": ".py",
   "mimetype": "text/x-python",
   "name": "python",
   "nbconvert_exporter": "python",
   "pygments_lexer": "ipython2",
   "version": "2.7.6"
  }
 },
 "nbformat": 4,
 "nbformat_minor": 0
}