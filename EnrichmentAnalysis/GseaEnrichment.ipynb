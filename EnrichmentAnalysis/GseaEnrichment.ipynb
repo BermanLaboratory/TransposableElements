{
 "cells": [
  {
   "cell_type": "markdown",
   "source": [
    "## Data import\n",
    "\n",
    "please see Preprocessing > PreprocessingMain.ipynb for more information regarding data import"
   ],
   "metadata": {
    "collapsed": false,
    "pycharm": {
     "name": "#%% md\n"
    }
   }
  },
  {
   "cell_type": "code",
   "execution_count": 70,
   "metadata": {
    "collapsed": true,
    "pycharm": {
     "name": "#%%\n"
    }
   },
   "outputs": [],
   "source": [
    "import pandas as pd\n",
    "from Preprocessing.Funcs.ReorderUROMOL import UROMOLreorder\n",
    "\n",
    "# load in both Gene and TE transcriptomic expression\n",
    "Gene = pd.read_csv('~/Desktop/UROMOL-TE/UROMOL-Gene.csv', index_col='Unnamed: 0')\n",
    "TE = pd.read_csv('~/Desktop/UROMOL-TE/UROMOL-TE.csv', index_col='Unnamed: 0')\n",
    "\n",
    "# order the dataframe by UROMOL ID\n",
    "IDs = []\n",
    "for sample in TE.columns.tolist():\n",
    "    IDs.append(int(sample.split('U')[1]))\n",
    "\n",
    "TE = UROMOLreorder(IDs, TE)\n",
    "Gene = UROMOLreorder(IDs, Gene)\n",
    "\n",
    "# eliminate all simple repeat elements from the TE dataset\n",
    "nonTE = []\n",
    "for element in TE.index.values.tolist():\n",
    "    if '(' in element:\n",
    "        nonTE.append(element)\n",
    "TE = TE.drop(nonTE, axis='rows')\n",
    "\n",
    "# remove all TE elements and Genes with no expression\n",
    "TE = TE.loc[~(TE==0).all(axis=1)]\n",
    "Gene = Gene.loc[~(Gene==0).all(axis=1)]"
   ]
  },
  {
   "cell_type": "markdown",
   "source": [
    "## Sum TE expression\n",
    "\n",
    "in order to preform Gsea analysis on TE expression, we need to sum TE expression by class. There are 5 classes: LINE,\n",
    "SINE, LTR, DNA, Retroposon"
   ],
   "metadata": {
    "collapsed": false,
    "pycharm": {
     "name": "#%% md\n"
    }
   }
  },
  {
   "cell_type": "code",
   "execution_count": 71,
   "outputs": [],
   "source": [
    "# load in class information and merge with TE dataframe\n",
    "RepName = pd.read_csv('~/Desktop/UROMOL-TE/TE-RepName.csv', index_col= 'Unnamed: 0', usecols=[0, 3])\n",
    "RepName = RepName.drop(nonTE, axis='rows')\n",
    "TEclass = pd.concat([TE, RepName], axis=1)\n",
    "\n",
    "# Isolate TE expression by class and drop 'repClass' column\n",
    "LINE = TEclass[TEclass['repClass'] == 'LINE'].drop('repClass', axis='columns')\n",
    "SINE = TEclass[TEclass['repClass'] == 'SINE'].drop('repClass', axis='columns')\n",
    "LTR = TEclass[TEclass['repClass'] == 'LTR'].drop('repClass', axis='columns')\n",
    "DNA = TEclass[TEclass['repClass'] == 'DNA'].drop('repClass', axis='columns')\n",
    "Retroposon = TEclass[TEclass['repClass'] == 'Retroposon'].drop('repClass', axis='columns')\n",
    "\n",
    "# Sum TE expression (isolated by class) for each patient to generate a 1D vector of expression for each TE class\n",
    "LINE = LINE.sum(axis='rows')\n",
    "SINE = SINE.sum(axis='rows')\n",
    "LTR = LTR.sum(axis='rows')\n",
    "DNA = DNA.sum(axis='rows')\n",
    "Retroposon = Retroposon.sum(axis='rows')"
   ],
   "metadata": {
    "collapsed": false,
    "pycharm": {
     "name": "#%%\n"
    }
   }
  },
  {
   "cell_type": "code",
   "execution_count": 72,
   "outputs": [
    {
     "name": "stderr",
     "output_type": "stream",
     "text": [
      "100%|██████████| 55588/55588 [00:14<00:00, 3940.50it/s]\n"
     ]
    }
   ],
   "source": [
    "from scipy.stats import pearsonr\n",
    "from tqdm import tqdm\n",
    "\n",
    "titleCol = ['Gene',\n",
    "            'LINE-corr', 'LINE-pval',\n",
    "            'SINE-corr', 'SINE-pval',\n",
    "            'LTR-corr', 'LTR-pval',\n",
    "            'DNA-corr', 'DNA-pval',\n",
    "            'RETRO-corr', 'RETRO-pval']\n",
    "\n",
    "Correlation = []\n",
    "\n",
    "for gene in tqdm(Gene.index.values.tolist()):\n",
    "    geneComparitor = Gene.loc[gene, :]\n",
    "    LINEcorr, LINEpval = pearsonr(geneComparitor, LINE)\n",
    "    SINEcorr, SINEpval = pearsonr(geneComparitor, SINE)\n",
    "    LTRcorr, LTRpval = pearsonr(geneComparitor, LTR)\n",
    "    DNAcorr, DNApval = pearsonr(geneComparitor, DNA)\n",
    "    Retrocorr, Retropval = pearsonr(geneComparitor, Retroposon)\n",
    "\n",
    "    out = [gene,\n",
    "           LINEcorr, LINEpval,\n",
    "           SINEcorr, SINEpval,\n",
    "           LTRcorr, LTRpval,\n",
    "           DNAcorr, DNApval,\n",
    "           Retrocorr, Retropval]\n",
    "\n",
    "    Correlation.append(out)\n",
    "\n",
    "Corrdf = pd.DataFrame(Correlation, columns=titleCol)\n",
    "Corrdf.set_index('Gene', inplace=True)"
   ],
   "metadata": {
    "collapsed": false,
    "pycharm": {
     "name": "#%%\n"
    }
   }
  },
  {
   "cell_type": "code",
   "execution_count": 80,
   "outputs": [],
   "source": [
    "import pyensembl\n",
    "import gseapy\n",
    "# load gene names from GRCh38\n",
    "data = pyensembl.EnsemblRelease(77)\n",
    "\n",
    "# remove 2 ensembl IDs that do not have a gene name (therefore cannot be used for gsea analysis)\n",
    "rename = {}\n",
    "\n",
    "for i, item in enumerate(Corrdf.index.values.tolist()):\n",
    "\n",
    "    if ',' in item:\n",
    "        newitem = item.split(',')[0]\n",
    "        gene = data.gene_by_id(gene_id=newitem).gene_name\n",
    "        rename[item] = gene\n",
    "    else:\n",
    "        gene = data.gene_by_id(gene_id=item).gene_name\n",
    "        rename[item] = gene\n",
    "\n",
    "Corrdf = Corrdf.rename(index=rename)"
   ],
   "metadata": {
    "collapsed": false,
    "pycharm": {
     "name": "#%%\n"
    }
   }
  },
  {
   "cell_type": "markdown",
   "source": [],
   "metadata": {
    "collapsed": false,
    "pycharm": {
     "name": "#%% md\n"
    }
   }
  },
  {
   "cell_type": "code",
   "execution_count": 89,
   "outputs": [
    {
     "name": "stdout",
     "output_type": "stream",
     "text": [
      "               RETRO-corr\n",
      "Gene                     \n",
      "YBX1P4           0.972023\n",
      "RP11-638I8.1     0.962612\n",
      "TNRC18           0.959586\n",
      "GIGYF1           0.950677\n",
      "CLASRP           0.950032\n",
      "...                   ...\n",
      "CTB-79E8.3      -0.091106\n",
      "RPL41           -0.095600\n",
      "RP11-572P18.1   -0.097974\n",
      "RP11-20G6.3     -0.110345\n",
      "RPL7P1          -0.118278\n",
      "\n",
      "[43275 rows x 1 columns]\n"
     ]
    }
   ],
   "source": [
    "def GeneratePreRank(df, ElementType):\n",
    "\n",
    "    # this function evalautes the output of pearsonr analysis and ranks the geneset for gsea analysis\n",
    "\n",
    "    df = df.loc[: ,[f'{ElementType}-corr', f'{ElementType}-pval']]\n",
    "    df = df[df[f'{ElementType}-pval'] < 0.05].drop(f'{ElementType}-pval', axis=1)\n",
    "    df = df.sort_values(f'{ElementType}-corr', ascending=False)\n",
    "    return df\n",
    "\n",
    "linecorr = GeneratePreRank(Corrdf, 'LINE')\n",
    "sinecorr = GeneratePreRank(Corrdf, 'SINE')\n",
    "ltrcorr = GeneratePreRank(Corrdf, 'LTR')\n",
    "dnacorr = GeneratePreRank(Corrdf, 'DNA')\n",
    "retrocorr = GeneratePreRank(Corrdf, 'RETRO')"
   ],
   "metadata": {
    "collapsed": false,
    "pycharm": {
     "name": "#%%\n"
    }
   }
  },
  {
   "cell_type": "code",
   "execution_count": 32,
   "outputs": [],
   "source": [
    "import gseapy\n",
    "\n"
   ],
   "metadata": {
    "collapsed": false,
    "pycharm": {
     "name": "#%%\n"
    }
   }
  }
 ],
 "metadata": {
  "kernelspec": {
   "display_name": "Python 3",
   "language": "python",
   "name": "python3"
  },
  "language_info": {
   "codemirror_mode": {
    "name": "ipython",
    "version": 2
   },
   "file_extension": ".py",
   "mimetype": "text/x-python",
   "name": "python",
   "nbconvert_exporter": "python",
   "pygments_lexer": "ipython2",
   "version": "2.7.6"
  }
 },
 "nbformat": 4,
 "nbformat_minor": 0
}